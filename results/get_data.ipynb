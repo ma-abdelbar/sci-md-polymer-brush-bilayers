{
 "cells": [
  {
   "cell_type": "markdown",
   "metadata": {},
   "source": [
    "# Polymer Brush Simulation Analysis Notebook"
   ]
  },
  {
   "cell_type": "code",
   "execution_count": null,
   "metadata": {},
   "outputs": [],
   "source": [
    "%matplotlib widget\n",
    "import ipywidgets as widgets\n",
    "import matplotlib.pyplot as plt\n",
    "import numpy as np\n",
    "import pandas as pd\n",
    "import os\n",
    "from matplotlib import rcParams\n",
    "import math\n",
    "import sys\n",
    "import pickle\n",
    "import warnings\n",
    "warnings.filterwarnings('ignore')\n",
    "import logging\n",
    "logging.getLogger().setLevel(logging.CRITICAL)\n",
    "import pb_sims as pb"
   ]
  },
  {
   "cell_type": "code",
   "execution_count": 3,
   "metadata": {},
   "outputs": [
    {
     "data": {
      "text/plain": [
       "'/home/deck/Desktop/code/ma-abdelbar/sci-md-polymer-brush-bilayers/Analysis'"
      ]
     },
     "execution_count": 3,
     "metadata": {},
     "output_type": "execute_result"
    }
   ],
   "source": [
    "os.getcwd()"
   ]
  },
  {
   "cell_type": "code",
   "execution_count": null,
   "metadata": {},
   "outputs": [
    {
     "name": "stdout",
     "output_type": "stream",
     "text": [
      "The ..\\Cyclic\\Sims directory is missing, the widgets will load the data from the pickled files.\n",
      "The ..\\Linear\\Sims directory is missing, the widgets will load the data from the pickled files.\n",
      "The ..\\Loop\\Sims directory is missing, the widgets will load the data from the pickled files.\n",
      "The ..\\BB\\Sims directory is missing, the widgets will load the data from the pickled files.\n"
     ]
    }
   ],
   "source": [
    "series_paths = [r'..\\Loop\\Sims',\n",
    "                r'..\\Linear\\Sims',\n",
    "                r'..\\Loop\\Sims',\n",
    "                r'..\\BB\\Sims']\n",
    "\n",
    "Topologies = []\n",
    "i = 0\n",
    "for series_path in series_paths:\n",
    "    if os.path.isdir(series_path):\n",
    "        Topology1 = pb.Sims(series_path)\n",
    "        Topologies.append(Topology1)\n",
    "    else:\n",
    "        print('The {0} directory is missing, the widgets will load the data from the pickled files.'.format(series_path))\n",
    "\n",
    "    i += 1\n"
   ]
  },
  {
   "cell_type": "code",
   "execution_count": 3,
   "metadata": {
    "scrolled": false
   },
   "outputs": [],
   "source": [
    "if os.path.isdir('data') == False:\n",
    "    os.mkdir('data')\n",
    "T_info_f = 'data/T_info'\n",
    "if (os.path.isfile(T_info_f) == True):\n",
    "    with open(T_info_f,'rb') as f:\n",
    "        unpickler = pickle.Unpickler(f)\n",
    "        T_info = unpickler.load()\n",
    "else:\n",
    "    T_info = []\n",
    "    for Topology in Topologies:\n",
    "        T_info.append(Topology.info())\n",
    "    with open(T_info_f,'wb') as f:\n",
    "            pickle.dump(T_info,f)\n",
    "\n",
    "T_Names = [T_info[i][0].split()[0] for i in range(len(T_info))]\n",
    "T_Ndirs = T_info[0][1]\n",
    "T_Mdirs = T_info[0][2]\n",
    "T_Xdirs = T_info[0][3]\n",
    "T_PDdirs = T_info[0][4]\n",
    "T_Vdirs = T_info[0][5]\n"
   ]
  },
  {
   "cell_type": "code",
   "execution_count": 4,
   "metadata": {},
   "outputs": [
    {
     "name": "stdout",
     "output_type": "stream",
     "text": [
      "['$\\\\rho_g =0.02$', '$\\\\rho_g =0.05$', '$\\\\rho_g =0.06$', '$\\\\rho_g =0.08$', '$\\\\rho_g =0.13$', '$\\\\rho_g =0.21$', '$\\\\rho_g =0.28$']\n"
     ]
    }
   ],
   "source": [
    "tsteps = 40\n",
    "Lx = 30\n",
    "Ly = 25\n",
    "areaLJ = Lx *Ly\n",
    "T_Gdirs = [r'$\\rho_g ={0:.2f}$'.format(int(M[2:])/areaLJ) for M in T_Mdirs]\n",
    "print(T_Gdirs)"
   ]
  },
  {
   "cell_type": "code",
   "execution_count": 5,
   "metadata": {
    "scrolled": false
   },
   "outputs": [
    {
     "name": "stdout",
     "output_type": "stream",
     "text": [
      "Brush Topologies and Parameter Values\n",
      "--------------------------------------\n",
      "Cyclic Brushes\n",
      "['N=30', 'N=40', 'N=50', 'N=60']\n",
      "['M=18', 'M=38', 'M=44', 'M=58', 'M=100', 'M=158', 'M=208']\n",
      "['X=0']\n",
      "['D=10', 'D=20', 'D=30', 'D=40', 'D=50', 'D=70']\n",
      "['V=0.0010000000000000000208', 'V=0.0030000000000000000625', 'V=0.010000000000000000208', 'V=0.02999999999999999889', 'V=0.10000000000000000555', 'V=0.2999999999999999889', 'V=1']\n",
      "\n",
      "Linear Brushes\n",
      "['N=30', 'N=40', 'N=50', 'N=60']\n",
      "['M=18', 'M=38', 'M=44', 'M=58', 'M=100', 'M=158', 'M=208']\n",
      "['X=0']\n",
      "['D=10', 'D=20', 'D=30', 'D=40', 'D=50', 'D=70']\n",
      "['V=0.0010000000000000000208', 'V=0.0030000000000000000625', 'V=0.010000000000000000208', 'V=0.02999999999999999889', 'V=0.10000000000000000555', 'V=0.2999999999999999889', 'V=1']\n",
      "\n",
      "Loop Brushes\n",
      "['N=30', 'N=40', 'N=50', 'N=60']\n",
      "['M=18', 'M=38', 'M=44', 'M=58', 'M=100', 'M=158', 'M=208']\n",
      "['X=0']\n",
      "['D=10', 'D=20', 'D=30', 'D=40', 'D=50', 'D=70']\n",
      "['V=0.0010000000000000000208', 'V=0.0030000000000000000625', 'V=0.010000000000000000208', 'V=0.02999999999999999889', 'V=0.10000000000000000555', 'V=0.2999999999999999889', 'V=1']\n",
      "\n",
      "BB Brushes\n",
      "['N=30', 'N=40', 'N=50', 'N=60']\n",
      "['M=18', 'M=38', 'M=44', 'M=58', 'M=100', 'M=158', 'M=208']\n",
      "['X=0']\n",
      "['D=10', 'D=20', 'D=30', 'D=40', 'D=50', 'D=70']\n",
      "['missing', 'missing', 'missing', 'missing', 'missing', 'missing', 'missing']\n",
      "\n"
     ]
    }
   ],
   "source": [
    "print('Brush Topologies and Parameter Values')\n",
    "print('--------------------------------------')\n",
    "for i in T_info:\n",
    "    for j in i:\n",
    "        print(j, end = '\\n')\n",
    "    print('',sep='\\n')"
   ]
  },
  {
   "cell_type": "code",
   "execution_count": 6,
   "metadata": {
    "scrolled": true
   },
   "outputs": [],
   "source": [
    "# Read the equilibrium data\n",
    "eDPS_f = 'data/eDPS_data'\n",
    "RhovH_f = 'data/RhovH_data'\n",
    "eDPSs_f = 'data/eDPSs_data'\n",
    "\n",
    "if (os.path.isfile(eDPS_f) == True and os.path.isfile(RhovH_f) == True):\n",
    "    with open(eDPS_f,'rb') as f:\n",
    "        unpickler = pickle.Unpickler(f)\n",
    "        eDPS = unpickler.load()\n",
    "    with open(RhovH_f,'rb') as f:\n",
    "        unpickler = pickle.Unpickler(f)\n",
    "        RhovH = unpickler.load()\n",
    "else:\n",
    "    eDPS = []\n",
    "    eDPSs = []\n",
    "    RhovH = []\n",
    "    for Topology in Topologies:\n",
    "            eDPSd = Topology.profiles(['bbeads_edz'], PDis=[0], Vis=[0], Z2D=False)\n",
    "            eDPSr = pb.reorder_data(eDPSd)\n",
    "            eDPSsd = Topology.profiles(['bbeads_edz','sbeads_edz'], PDis=[0], Vis=[0], Z2D=False)\n",
    "            eDPS.append(eDPSr[:,:,:,:,:,:,:])\n",
    "            eDPSs.append(eDPSsd[:,:,:,:,:,:,:])\n",
    "            Hsr = Topology.brush_heights(eDPSd)\n",
    "            Rhosd = Topology.simVars(svar='surfcov', PDis=[0], Vis=[0])\n",
    "            if Topology.topology in \"Cyclic Brushes\":\n",
    "                Rhosd = Rhosd * 2.0\n",
    "            RhovHr = np.ma.concatenate((Rhosd, Hsr), axis=-2)\n",
    "            RhovH.append(RhovHr[:, :, :, :, :, :, :])\n",
    "    with open(eDPS_f,'wb') as f:\n",
    "        pickle.dump(eDPS,f)\n",
    "    with open(RhovH_f,'wb') as f:\n",
    "        pickle.dump(RhovH,f)\n",
    "    with open(eDPSs_f,'wb') as f:\n",
    "        pickle.dump(eDPSs,f)\n",
    "        \n",
    "        "
   ]
  },
  {
   "cell_type": "code",
   "execution_count": 7,
   "metadata": {
    "scrolled": true
   },
   "outputs": [],
   "source": [
    "cDPS_f = 'data/cDPS_data'\n",
    "if os.path.isfile(cDPS_f):\n",
    "    with open(cDPS_f,'rb') as f:\n",
    "        unpickler = pickle.Unpickler(f)\n",
    "        cDPS = unpickler.load()\n",
    "else:\n",
    "    cDPS = []\n",
    "    for Topology in Topologies:\n",
    "        cDPSd = Topology.profiles(['bbeads_cdz', 'tbeads_cdz','sbeads_cdz', 'abeads_cdz'], Vis=[0],Z2D=True)\n",
    "        cDPS.append(cDPSd[:, :, :, :, 0, :, :])\n",
    "    with open(cDPS_f,'wb') as f:\n",
    "        pickle.dump(cDPS,f)\n"
   ]
  },
  {
   "cell_type": "code",
   "execution_count": 8,
   "metadata": {},
   "outputs": [],
   "source": [
    "PvD_f = 'data/PvD_data'\n",
    "if os.path.isfile(PvD_f):\n",
    "    with open(PvD_f,'rb') as f:\n",
    "        unpickler = pickle.Unpickler(f)\n",
    "        PvD = unpickler.load()\n",
    "else:\n",
    "    PvD = []\n",
    "    for Topology in Topologies:\n",
    "        PvDd = Topology.thermo(2, ['f_D', 'f_pzz'],steps=tsteps, Vis=[0], avg=True)\n",
    "        PvD.append(PvDd[:, :, :, :, 0, :, :])\n",
    "    with open(PvD_f,'wb') as f:\n",
    "        pickle.dump(PvD,f)\n",
    "    \n"
   ]
  },
  {
   "cell_type": "code",
   "execution_count": 9,
   "metadata": {},
   "outputs": [],
   "source": [
    "OvD_f = 'data/OvD_data'\n",
    "NMFHvD_f = 'data/NMFHvD_data'\n",
    "FMFHvD_f = 'data/FMFHvD_data'\n",
    "MDvD_f = 'data/MDvD_data'\n",
    "if os.path.isfile(OvD_f):\n",
    "    with open(OvD_f,'rb') as f:\n",
    "        unpickler = pickle.Unpickler(f)\n",
    "        OvD = unpickler.load()\n",
    "if os.path.isfile(NMFHvD_f):\n",
    "    with open(NMFHvD_f,'rb') as f:\n",
    "        unpickler = pickle.Unpickler(f)\n",
    "        NMFHvD = unpickler.load()\n",
    "if os.path.isfile(FMFHvD_f):\n",
    "    with open(FMFHvD_f,'rb') as f:\n",
    "        unpickler = pickle.Unpickler(f)\n",
    "        FMFHvD = unpickler.load()\n",
    "if os.path.isfile(MDvD_f):\n",
    "    with open(MDvD_f,'rb') as f:\n",
    "        unpickler = pickle.Unpickler(f)\n",
    "        MDvD = unpickler.load()\n",
    "else:\n",
    "    OvD = []\n",
    "    NMFHvD = []\n",
    "    FMFHvD = []\n",
    "    MDvD = []\n",
    "    \n",
    "    for Topology in Topologies:\n",
    "        iDPSd = Topology.profiles(['bbeads_cdz', 'tbeads_cdz'], Vis=[0], Z2D=False)\n",
    "        Osd = Topology.overlap(iDPSd)\n",
    "        NMFHd = Topology.NMFHS(iDPSd)\n",
    "        FMFHd = Topology.FMFHS(iDPSd)\n",
    "        MDd = Topology.mid_den(iDPSd)\n",
    "        Dsd = Topology.thermo(2, tvars=['f_D'],steps=tsteps, Vis=[0])\n",
    "        OvDr = np.ma.concatenate((Dsd, Osd), axis=-2)\n",
    "        OvD.append(OvDr[:, :, :, :, :, :, :])\n",
    "        NMFHvDr = np.ma.concatenate((Dsd, NMFHd), axis=-2)\n",
    "        NMFHvD.append(NMFHvDr[:, :, :, :, :, :, :])\n",
    "        FMFHvDr = np.ma.concatenate((Dsd, FMFHd), axis=-2)\n",
    "        FMFHvD.append(FMFHvDr[:, :, :, :, :, :, :])\n",
    "        MDvDr = np.ma.concatenate((Dsd, MDd), axis=-2)\n",
    "        MDvD.append(MDvDr[:, :, :, :, :, :, :])\n",
    "    with open(OvD_f,'wb') as f:\n",
    "        pickle.dump(OvD,f)\n",
    "    with open(NMFHvD_f,'wb') as f:\n",
    "        pickle.dump(NMFHvD,f)\n",
    "    with open(FMFHvD_f,'wb') as f:\n",
    "        pickle.dump(FMFHvD,f)\n",
    "    with open(MDvD_f,'wb') as f:\n",
    "        pickle.dump(MDvD,f)\n",
    "        "
   ]
  },
  {
   "cell_type": "code",
   "execution_count": 10,
   "metadata": {
    "scrolled": true
   },
   "outputs": [],
   "source": [
    "OvDs_f = 'data/OvDs_data'\n",
    "NMFHvDs_f = 'data/NMFHvDs_data'\n",
    "FMFHvDs_f = 'data/FMFHvDs_data'\n",
    "MDvDs_f = 'data/MDvDs_data'\n",
    "OvV_f = 'data/OvV_data'\n",
    "NMFHvV_f = 'data/NMFHvV_data'\n",
    "FMFHvV_f = 'data/FMFHvV_data'\n",
    "MDvV_f = 'data/MDvV_data'\n",
    "\n",
    "if os.path.isfile(OvV_f):\n",
    "    with open(OvDs_f,'rb') as f:\n",
    "        unpickler = pickle.Unpickler(f)\n",
    "        OvDs = unpickler.load()\n",
    "    with open(OvV_f,'rb') as f:\n",
    "        unpickler = pickle.Unpickler(f)\n",
    "        OvV = unpickler.load()\n",
    "    with open(NMFHvDs_f,'rb') as f:\n",
    "        unpickler = pickle.Unpickler(f)\n",
    "        NMFHvDs = unpickler.load()\n",
    "    with open(FMFHvDs_f,'rb') as f:\n",
    "        unpickler = pickle.Unpickler(f)\n",
    "        FMFHvDs = unpickler.load()\n",
    "    with open(NMFHvV_f,'rb') as f:\n",
    "        unpickler = pickle.Unpickler(f)\n",
    "        NMFHvV = unpickler.load()\n",
    "    with open(FMFHvV_f,'rb') as f:\n",
    "        unpickler = pickle.Unpickler(f)\n",
    "        FMFHvV = unpickler.load()\n",
    "    with open(MDvDs_f,'rb') as f:\n",
    "        unpickler = pickle.Unpickler(f)\n",
    "        MDvDs = unpickler.load()\n",
    "    with open(MDvV_f,'rb') as f:\n",
    "        unpickler = pickle.Unpickler(f)\n",
    "        MDvV = unpickler.load()\n",
    "    \n",
    "    \n",
    "else:\n",
    "    OvDs = []\n",
    "    OvV = []\n",
    "    NMFHvDs = []\n",
    "    FMFHvDs = []\n",
    "    NMFHvV = []\n",
    "    FMFHvV = []\n",
    "    MDvDs = []\n",
    "    MDvV = []\n",
    "    for Topology in Topologies:\n",
    "        iDPSds = Topology.profiles(['bbeads_sdz', 'tbeads_sdz'], Z2D=False)\n",
    "        Osds = Topology.overlap(iDPSds)\n",
    "        NMFHds = Topology.NMFHS(iDPSds)\n",
    "        FMFHds = Topology.FMFHS(iDPSds)\n",
    "        MDds = Topology.mid_den(iDPSds)\n",
    "        Dsds = Topology.thermo(3, tvars=['f_D'],steps=tsteps)\n",
    "        OvDr = np.ma.concatenate((Dsds, Osds), axis=-2)\n",
    "        OvDs.append(OvDr[:, :, :, :, :, :, :])\n",
    "        NMFHvDr = np.ma.concatenate((Dsds, NMFHds), axis=-2)\n",
    "        NMFHvDs.append(NMFHvDr[:, :, :, :, :, :, :])\n",
    "        FMFHvDr = np.ma.concatenate((Dsds, FMFHds), axis=-2)\n",
    "        FMFHvDs.append(FMFHvDr[:, :, :, :, :, :, :])\n",
    "        MDvDr = np.ma.concatenate((Dsds, MDds), axis=-2)\n",
    "        MDvDs.append(MDvDr[:, :, :, :, :, :, :])\n",
    "        Vsds= Topology.simVars('Vwall')\n",
    "        OvVr = np.ma.concatenate((Vsds, Osds), axis=-2)\n",
    "        OvV.append(OvVr[:, :, :, :, :, :, :])\n",
    "        NMFHvVr = np.ma.concatenate((Vsds, NMFHds), axis=-2)\n",
    "        NMFHvV.append(NMFHvVr[:, :, :, :, :, :, :])\n",
    "        FMFHvVr = np.ma.concatenate((Vsds, FMFHds), axis=-2)\n",
    "        FMFHvV.append(FMFHvVr[:, :, :, :, :, :, :])\n",
    "        MDvVr = np.ma.concatenate((Vsds, MDds), axis=-2)\n",
    "        MDvV.append(MDvVr[:, :, :, :, :, :, :])\n",
    "    with open(OvDs_f,'wb') as f:\n",
    "        pickle.dump(OvDs,f)\n",
    "    with open(OvV_f,'wb') as f:\n",
    "        pickle.dump(OvV,f)\n",
    "    with open(NMFHvDs_f,'wb') as f:\n",
    "        pickle.dump(NMFHvDs,f)\n",
    "    with open(FMFHvDs_f,'wb') as f:\n",
    "        pickle.dump(FMFHvDs,f)\n",
    "    with open(NMFHvV_f,'wb') as f:\n",
    "        pickle.dump(NMFHvV,f)\n",
    "    with open(FMFHvV_f,'wb') as f:\n",
    "        pickle.dump(FMFHvV,f)\n",
    "    with open(MDvDs_f,'wb') as f:\n",
    "        pickle.dump(MDvDs,f)\n",
    "    with open(MDvV_f,'wb') as f:\n",
    "        pickle.dump(MDvV,f)"
   ]
  },
  {
   "cell_type": "code",
   "execution_count": 11,
   "metadata": {
    "scrolled": true
   },
   "outputs": [
    {
     "name": "stdout",
     "output_type": "stream",
     "text": [
      "['Cyclic Brushes', ['N=30', 'N=40', 'N=50', 'N=60'], ['M=18', 'M=38', 'M=44', 'M=58', 'M=100', 'M=158', 'M=208'], ['X=0'], ['D=10', 'D=20', 'D=30', 'D=40', 'D=50', 'D=70'], ['V=0.0010000000000000000208', 'V=0.0030000000000000000625', 'V=0.010000000000000000208', 'V=0.02999999999999999889', 'V=0.10000000000000000555', 'V=0.2999999999999999889', 'V=1']]\n",
      "['Linear Brushes', ['N=30', 'N=40', 'N=50', 'N=60'], ['M=18', 'M=38', 'M=44', 'M=58', 'M=100', 'M=158', 'M=208'], ['X=0'], ['D=10', 'D=20', 'D=30', 'D=40', 'D=50', 'D=70'], ['V=0.0010000000000000000208', 'V=0.0030000000000000000625', 'V=0.010000000000000000208', 'V=0.02999999999999999889', 'V=0.10000000000000000555', 'V=0.2999999999999999889', 'V=1']]\n",
      "['Loop Brushes', ['N=30', 'N=40', 'N=50', 'N=60'], ['M=18', 'M=38', 'M=44', 'M=58', 'M=100', 'M=158', 'M=208'], ['X=0'], ['D=10', 'D=20', 'D=30', 'D=40', 'D=50', 'D=70'], ['V=0.0010000000000000000208', 'V=0.0030000000000000000625', 'V=0.010000000000000000208', 'V=0.02999999999999999889', 'V=0.10000000000000000555', 'V=0.2999999999999999889', 'V=1']]\n",
      "['BB Brushes', ['N=30', 'N=40', 'N=50', 'N=60'], ['M=18', 'M=38', 'M=44', 'M=58', 'M=100', 'M=158', 'M=208'], ['X=0'], ['D=10', 'D=20', 'D=30', 'D=40', 'D=50', 'D=70'], ['missing', 'missing', 'missing', 'missing', 'missing', 'missing', 'missing']]\n"
     ]
    }
   ],
   "source": [
    "# Read shear temperature-density-velocity profiles\n",
    "TDV_f = 'data/TDV_data'\n",
    "if os.path.isfile(TDV_f):\n",
    "    with open(TDV_f,'rb') as f:\n",
    "        unpickler = pickle.Unpickler(f)\n",
    "        TDV = unpickler.load()\n",
    "else:\n",
    "    TDV = []\n",
    "    for Topology in Topologies:\n",
    "        print(Topology.info())\n",
    "        TDVd = Topology.profiles(['temp_sz', 'abeads_sdz', 'velp_sz'], Z2D=True)\n",
    "        TDV.append(TDVd[:, :, :, :, :, :, :])\n",
    "    with open(TDV_f,'wb') as f:\n",
    "        pickle.dump(TDV,f)"
   ]
  },
  {
   "cell_type": "code",
   "execution_count": 12,
   "metadata": {},
   "outputs": [],
   "source": [
    "# Read shear density profiles\n",
    "sDPS_f = 'data/sDPS_data'\n",
    "if os.path.isfile(sDPS_f):\n",
    "    with open(sDPS_f,'rb') as f:\n",
    "        unpickler = pickle.Unpickler(f)\n",
    "        sDPS = unpickler.load()\n",
    "else:\n",
    "    sDPS = []\n",
    "    for Topology in Topologies:\n",
    "        sDPSd = Topology.profiles(['bbeads_sdz', 'tbeads_sdz','sbeads_sdz', 'abeads_sdz'],Z2D=True)\n",
    "        sDPS.append(sDPSd[:, :, :, :, :, :, :])\n",
    "    with open(sDPS_f,'wb') as f:\n",
    "        pickle.dump(sDPS,f)"
   ]
  },
  {
   "cell_type": "code",
   "execution_count": 13,
   "metadata": {},
   "outputs": [],
   "source": [
    "\n",
    "# Read shear force and configurational data\n",
    "\n",
    "RvS_f = 'data/RvS_data'\n",
    "RvW_f = 'data/RvW_data'\n",
    "PvS_f = 'data/PvS_data'\n",
    "FvS_f = 'data/FvS_data'\n",
    "FvS_m_f = 'data/FvS_m_data'\n",
    "FvW_f = 'data/FvW_data'\n",
    "FvW_m_f = 'data/FvW_m_data'\n",
    "FvM = 'data/FvM_data'\n",
    "VvS_f = 'data/VvS_data'\n",
    "VvS_m_f = 'data/VvS_m_data'\n",
    "VvW_f = 'data/VvW_data'\n",
    "VvW_m_f = 'data/VvW_m_data'\n",
    "FvM = 'data/FvM_data'\n",
    "PxvPz_f = 'data/PxvPz_data'\n",
    "NvM_f = 'data/NvM_data'\n",
    "Dv_f = 'data/Dv_data'\n",
    "\n",
    "\n",
    "if os.path.isfile(RvS_f) and os.path.isfile(Dv_f):\n",
    "    with open(RvS_f,'rb') as f:\n",
    "        unpickler = pickle.Unpickler(f)\n",
    "        RvS = unpickler.load()\n",
    "    with open(RvW_f,'rb') as f:\n",
    "        unpickler = pickle.Unpickler(f)\n",
    "        RvW = unpickler.load()\n",
    "    with open(PvS_f,'rb') as f:\n",
    "        unpickler = pickle.Unpickler(f)\n",
    "        PvS = unpickler.load()\n",
    "    with open(FvS_f,'rb') as f:\n",
    "        unpickler = pickle.Unpickler(f)\n",
    "        FvS = unpickler.load()\n",
    "    with open(FvS_m_f,'rb') as f:\n",
    "        unpickler = pickle.Unpickler(f)\n",
    "        FvS_m = unpickler.load()\n",
    "    with open(FvW_f,'rb') as f:\n",
    "        unpickler = pickle.Unpickler(f)\n",
    "        FvW = unpickler.load()\n",
    "    with open(FvW_m_f,'rb') as f:\n",
    "        unpickler = pickle.Unpickler(f)\n",
    "        FvW_m = unpickler.load()\n",
    "    with open(VvS_f,'rb') as f:\n",
    "        unpickler = pickle.Unpickler(f)\n",
    "        VvS = unpickler.load()\n",
    "    with open(VvS_m_f,'rb') as f:\n",
    "        unpickler = pickle.Unpickler(f)\n",
    "        VvS_m = unpickler.load()\n",
    "    with open(VvW_f,'rb') as f:\n",
    "        unpickler = pickle.Unpickler(f)\n",
    "        VvW = unpickler.load()\n",
    "    with open(VvW_m_f,'rb') as f:\n",
    "        unpickler = pickle.Unpickler(f)\n",
    "        VvW_m = unpickler.load()\n",
    "    with open(PxvPz_f,'rb') as f:\n",
    "        unpickler = pickle.Unpickler(f)\n",
    "        PxvPz = unpickler.load()\n",
    "    with open(NvM_f,'rb') as f:\n",
    "        unpickler = pickle.Unpickler(f)\n",
    "        NvM = unpickler.load()\n",
    "    with open(Dv_f,'rb') as f:\n",
    "        unpickler = pickle.Unpickler(f)\n",
    "        Dv = unpickler.load()\n",
    "        \n",
    "else:\n",
    "    RvS = []\n",
    "    RvW = []\n",
    "    PvS = []\n",
    "    FvS = []\n",
    "    FvS_m = []\n",
    "    FvW = []\n",
    "    FvW_m = []\n",
    "    VvS = []\n",
    "    VvS_m = []\n",
    "    VvW = []\n",
    "    VvW_m = []\n",
    "    PxvPz = []\n",
    "    NvM = []\n",
    "    Dv = []\n",
    "    for Topology in Topologies:\n",
    "        RvS_c = Topology.thermo(3, ['f_srate', 'f_Rgx'],steps=tsteps, avg=True)\n",
    "        Rg2xvS_c = Topology.Rg2x(RvS_c)\n",
    "        RvS.append(Rg2xvS_c[:, :, :, :, :, :, :])\n",
    "        src_c = Topology.srate_crit(Rg2xvS_c)\n",
    "        Rg2xvW_c = Topology.Weissenberg(Rg2xvS_c,src_c)\n",
    "        RvW.append(Rg2xvW_c[:, :, :, :, :, :, :])\n",
    "        PvS_c = Topology.thermo(3, ['f_srate', 'f_pxz', 'f_pzz'],steps=tsteps,avg=True)\n",
    "        PvS.append(PvS_c[:, :, :, :, :, :, :])\n",
    "        \n",
    "        FvS_c = Topology.COF(PvS_c)\n",
    "        FvS.append(FvS_c[:, :, :, :, :, :, :])\n",
    "        FvS_m_c = Topology.mask(FvS_c, src_c)\n",
    "        FvS_m.append(FvS_m_c[:, :, :, :, :, :, :])\n",
    "        FvW.append(Topology.Weissenberg(FvS_c, src_c))\n",
    "        FvW_m.append(Topology.Weissenberg(FvS_m_c, src_c))\n",
    "        \n",
    "        VvS_c = Topology.effVisc(PvS_c)\n",
    "        VvS.append(VvS_c[:, :, :, :, :, :, :])\n",
    "        VvS_m_c = Topology.mask(VvS_c, src_c)\n",
    "        VvS_m.append(VvS_m_c[:, :, :, :, :, :, :])\n",
    "        VvW.append(Topology.Weissenberg(VvS_c, src_c))\n",
    "        VvW_m.append(Topology.Weissenberg(VvS_m_c, src_c))\n",
    "        \n",
    "        \n",
    "        \n",
    "        PxvPzd = Topology.thermo(3, ['f_pzz','f_pxz'],steps=tsteps,avg=True)\n",
    "        PxvPzr = np.moveaxis(PxvPzd, [0,1,2,3,4,5,6],[0,1,2,4,3,5,6])\n",
    "        PxvPzr2 = np.moveaxis(PxvPzr,[0,1,2,3,4,5,6],[0,3,2,1,4,5,6])\n",
    "        PxvPz.append(PxvPzr2[:,:,:,:,:,:,:])\n",
    "        NvMd = Topology.thermoNM(3)\n",
    "        NvM.append(NvMd)\n",
    "        Dvd =  Topology.thermo(3, ['f_D'],steps=tsteps,avg=True)\n",
    "        Dv.append(Dvd[:,:,:,:,:,:,:])\n",
    "    with open(RvS_f,'wb') as f:\n",
    "        pickle.dump(RvS,f)\n",
    "    with open(RvW_f,'wb') as f:\n",
    "        pickle.dump(RvW,f)\n",
    "    with open(PvS_f,'wb') as f:\n",
    "        pickle.dump(PvS,f)\n",
    "    with open(FvS_f,'wb') as f:\n",
    "        pickle.dump(FvS,f)\n",
    "    with open(FvS_m_f,'wb') as f:\n",
    "        pickle.dump(FvS_m,f)\n",
    "    with open(FvW_f,'wb') as f:\n",
    "        pickle.dump(FvW,f)\n",
    "    with open(FvW_m_f,'wb') as f:\n",
    "        pickle.dump(FvW_m,f)\n",
    "    with open(VvS_f,'wb') as f:\n",
    "        pickle.dump(VvS,f)\n",
    "    with open(VvS_m_f,'wb') as f:\n",
    "        pickle.dump(VvS_m,f)\n",
    "    with open(VvW_f,'wb') as f:\n",
    "        pickle.dump(VvW,f)\n",
    "    with open(VvW_m_f,'wb') as f:\n",
    "        pickle.dump(VvW_m,f)\n",
    "    with open(PxvPz_f,'wb') as f:\n",
    "        pickle.dump(PxvPz,f)\n",
    "    with open(NvM_f,'wb') as f:\n",
    "        pickle.dump(NvM,f)\n",
    "    with open(Dv_f,'wb') as f:\n",
    "        pickle.dump(Dv,f)\n",
    "    "
   ]
  },
  {
   "cell_type": "code",
   "execution_count": 14,
   "metadata": {},
   "outputs": [],
   "source": [
    "# Prepare data for PsvS plot\n",
    "PvS_c = [PvS[i] for i in range(len(PvS))]\n",
    "PsvS = []\n",
    "for i in range(len(PvS_c)):\n",
    "    Psv = np.ma.expand_dims(PvS_c[i][:,:,:,:,:,0,:],axis=-2)\n",
    "    Sv = np.ma.expand_dims(PvS_c[i][:,:,:,:,:,1,:],axis=-2)\n",
    "    \n",
    "    PsvS.append(np.ma.concatenate((Psv,Sv),axis=-2))"
   ]
  },
  {
   "cell_type": "code",
   "execution_count": 15,
   "metadata": {},
   "outputs": [],
   "source": [
    "RvV_f = 'data/RvV_data'\n",
    "PvV_f = 'data/PvV_data'\n",
    "FvV_f = 'data/FvV_data'\n",
    "VvV_f = 'data/VvV_data'\n",
    "\n",
    "if os.path.isfile(RvV_f) and os.path.isfile(PvV_f):\n",
    "    with open(RvV_f,'rb') as f:\n",
    "        unpickler = pickle.Unpickler(f)\n",
    "        RvV = unpickler.load()\n",
    "    with open(PvV_f,'rb') as f:\n",
    "        unpickler = pickle.Unpickler(f)\n",
    "        PvV = unpickler.load()\n",
    "    with open(FvV_f,'rb') as f:\n",
    "        unpickler = pickle.Unpickler(f)\n",
    "        FvV = unpickler.load()\n",
    "    with open(VvV_f,'rb') as f:\n",
    "        unpickler = pickle.Unpickler(f)\n",
    "        VvV = unpickler.load()\n",
    "else:\n",
    "    RvV = []\n",
    "    PvV = []\n",
    "    FvV = []\n",
    "    VvV = []\n",
    "    for Topology in Topologies:\n",
    "        Vv = Topology.simVars('Vwall')\n",
    "        Rv = Topology.thermo(3, ['f_Rgx'],steps=tsteps, avg=True)\n",
    "        RvV_c = np.ma.concatenate((Vv,Rv),axis=-2)\n",
    "        Rg2xvV_c = Topology.Rg2x(RvV_c)\n",
    "        RvV.append(Rg2xvV_c[:, :, :, :, :, :, :])\n",
    "        \n",
    "        Pxz = Topology.thermo(3, [ 'f_pxz',],steps=tsteps,avg=True)\n",
    "        Pzz = Topology.thermo(3, [ 'f_pzz',],steps=tsteps,avg=True)\n",
    "        \n",
    "        PvV_c = np.ma.concatenate((Vv,Pxz,Vv,Pzz),axis=-2)\n",
    "        PvV.append(PvV_c[:, :, :, :, :, :, :])\n",
    "        \n",
    "        FvV_c = Topology.COF(PvV_c)\n",
    "        FvV.append(FvV_c[:, :, :, :, :, :, :])\n",
    "        \n",
    "        VvV_c = Topology.effVisc(PvV_c)\n",
    "        VvV.append(VvV_c[:, :, :, :, :, :, :])\n",
    "    with open(RvV_f,'wb') as f:\n",
    "        pickle.dump(RvV,f)  \n",
    "    with open(PvV_f,'wb') as f:\n",
    "        pickle.dump(PvV,f)\n",
    "    with open(FvV_f,'wb') as f:\n",
    "        pickle.dump(FvV,f)\n",
    "    with open(VvV_f,'wb') as f:\n",
    "        pickle.dump(VvV,f)\n",
    "    \n"
   ]
  },
  {
   "cell_type": "markdown",
   "metadata": {},
   "source": [
    "###### "
   ]
  }
 ],
 "metadata": {
  "kernelspec": {
   "display_name": ".venv",
   "language": "python",
   "name": "python3"
  },
  "language_info": {
   "codemirror_mode": {
    "name": "ipython",
    "version": 3
   },
   "file_extension": ".py",
   "mimetype": "text/x-python",
   "name": "python",
   "nbconvert_exporter": "python",
   "pygments_lexer": "ipython3",
   "version": "3.12.9"
  },
  "widgets": {
   "application/vnd.jupyter.widget-state+json": {
    "state": {
     "01513221afdb4f88bf103e4d52fef8ea": {
      "model_module": "@jupyter-widgets/base",
      "model_module_version": "1.2.0",
      "model_name": "LayoutModel",
      "state": {}
     },
     "01f43db869ca4d61a87f4c035f286209": {
      "model_module": "@jupyter-widgets/base",
      "model_module_version": "1.2.0",
      "model_name": "LayoutModel",
      "state": {}
     },
     "03811bd9eee14b5dad872ffbb36601f6": {
      "model_module": "@jupyter-widgets/base",
      "model_module_version": "1.2.0",
      "model_name": "LayoutModel",
      "state": {}
     },
     "04b4bc05e2024632a4b7e69648dbdc4c": {
      "model_module": "@jupyter-widgets/base",
      "model_module_version": "1.2.0",
      "model_name": "LayoutModel",
      "state": {}
     },
     "054dd2fc25014ae5a55b2f7684484501": {
      "model_module": "@jupyter-widgets/controls",
      "model_module_version": "1.5.0",
      "model_name": "IntSliderModel",
      "state": {
       "description": "N",
       "layout": "IPY_MODEL_237b8de96c8640bbb58246b9bc36785e",
       "max": 2,
       "style": "IPY_MODEL_dbfc9146c5f24c519e15784af2a83680"
      }
     },
     "0677e5a39d1f46bca65cdcbadcceb06a": {
      "model_module": "@jupyter-widgets/base",
      "model_module_version": "1.2.0",
      "model_name": "LayoutModel",
      "state": {}
     },
     "084b744d9cfb4173b8c7ab43b6471da2": {
      "model_module": "@jupyter-widgets/base",
      "model_module_version": "1.2.0",
      "model_name": "LayoutModel",
      "state": {}
     },
     "089c5054fa71499b8e8795179765e11d": {
      "model_module": "jupyter-matplotlib",
      "model_module_version": "^0.9.0",
      "model_name": "MPLCanvasModel",
      "state": {
       "_cursor": "default",
       "_figure_label": "Figure 7",
       "_height": 600,
       "_image_mode": "diff",
       "_width": 800,
       "layout": "IPY_MODEL_01513221afdb4f88bf103e4d52fef8ea",
       "toolbar": "IPY_MODEL_7e270950096545ff8333cbdf217261a3",
       "toolbar_position": "left"
      }
     },
     "097aa40c97f1451b92fbfea618f7a9eb": {
      "model_module": "@jupyter-widgets/controls",
      "model_module_version": "1.5.0",
      "model_name": "VBoxModel",
      "state": {
       "_dom_classes": [
        "widget-interact"
       ],
       "children": [
        "IPY_MODEL_054dd2fc25014ae5a55b2f7684484501",
        "IPY_MODEL_adbe804a81c24ff8b2ed67afce741e82"
       ],
       "layout": "IPY_MODEL_ac1e0ef6d6bd48cda86655f6acdbe7bb"
      }
     },
     "0a9c1529c20e435287b7dbca5552c594": {
      "model_module": "jupyter-matplotlib",
      "model_module_version": "^0.9.0",
      "model_name": "MPLCanvasModel",
      "state": {
       "_cursor": "default",
       "_figure_label": "Figure 16",
       "_height": 600,
       "_image_mode": "diff",
       "_width": 800,
       "layout": "IPY_MODEL_8d1322d1f2a34f699a52e634f8d94e31",
       "toolbar": "IPY_MODEL_30b34f9fb28e44c28e3150ab69dbbed0",
       "toolbar_position": "left"
      }
     },
     "0bbb3f9ad4e54a308f75b7cee61033a1": {
      "model_module": "@jupyter-widgets/base",
      "model_module_version": "1.2.0",
      "model_name": "LayoutModel",
      "state": {}
     },
     "133406911e8a488885c4b4e5852343cd": {
      "model_module": "@jupyter-widgets/base",
      "model_module_version": "1.2.0",
      "model_name": "LayoutModel",
      "state": {}
     },
     "1810cb99fe6b4feca3b709bc57e82a5f": {
      "model_module": "jupyter-matplotlib",
      "model_module_version": "^0.9.0",
      "model_name": "ToolbarModel",
      "state": {
       "layout": "IPY_MODEL_cad3a0f8d30d4aed8e4bd3125ac6c16e",
       "toolitems": [
        [
         "Home",
         "Reset original view",
         "home",
         "home"
        ],
        [
         "Back",
         "Back to previous view",
         "arrow-left",
         "back"
        ],
        [
         "Forward",
         "Forward to next view",
         "arrow-right",
         "forward"
        ],
        [
         "Pan",
         "Left button pans, Right button zooms\nx/y fixes axis, CTRL fixes aspect",
         "arrows",
         "pan"
        ],
        [
         "Zoom",
         "Zoom to rectangle\nx/y fixes axis, CTRL fixes aspect",
         "square-o",
         "zoom"
        ],
        [
         "Download",
         "Download plot",
         "floppy-o",
         "save_figure"
        ]
       ]
      }
     },
     "189fd793d8b64f8e9bd0d81f84b8974e": {
      "model_module": "@jupyter-widgets/base",
      "model_module_version": "1.2.0",
      "model_name": "LayoutModel",
      "state": {}
     },
     "1a1e954f50d64429b91b47c24a2f6030": {
      "model_module": "jupyter-matplotlib",
      "model_module_version": "^0.9.0",
      "model_name": "ToolbarModel",
      "state": {
       "layout": "IPY_MODEL_e378f12d0d0f46adbdf8f27d0d7b7598",
       "toolitems": [
        [
         "Home",
         "Reset original view",
         "home",
         "home"
        ],
        [
         "Back",
         "Back to previous view",
         "arrow-left",
         "back"
        ],
        [
         "Forward",
         "Forward to next view",
         "arrow-right",
         "forward"
        ],
        [
         "Pan",
         "Left button pans, Right button zooms\nx/y fixes axis, CTRL fixes aspect",
         "arrows",
         "pan"
        ],
        [
         "Zoom",
         "Zoom to rectangle\nx/y fixes axis, CTRL fixes aspect",
         "square-o",
         "zoom"
        ],
        [
         "Download",
         "Download plot",
         "floppy-o",
         "save_figure"
        ]
       ]
      }
     },
     "1c2f6e4df5404de69b79148b2a4a63fe": {
      "model_module": "jupyter-matplotlib",
      "model_module_version": "^0.9.0",
      "model_name": "ToolbarModel",
      "state": {
       "layout": "IPY_MODEL_f61403c895ac4b95a60d56e3e5c01ed0",
       "toolitems": [
        [
         "Home",
         "Reset original view",
         "home",
         "home"
        ],
        [
         "Back",
         "Back to previous view",
         "arrow-left",
         "back"
        ],
        [
         "Forward",
         "Forward to next view",
         "arrow-right",
         "forward"
        ],
        [
         "Pan",
         "Left button pans, Right button zooms\nx/y fixes axis, CTRL fixes aspect",
         "arrows",
         "pan"
        ],
        [
         "Zoom",
         "Zoom to rectangle\nx/y fixes axis, CTRL fixes aspect",
         "square-o",
         "zoom"
        ],
        [
         "Download",
         "Download plot",
         "floppy-o",
         "save_figure"
        ]
       ]
      }
     },
     "2256741bd9ee47c3a5ed78890f6986d0": {
      "model_module": "jupyter-matplotlib",
      "model_module_version": "^0.9.0",
      "model_name": "MPLCanvasModel",
      "state": {
       "_cursor": "default",
       "_figure_label": "Figure 8",
       "_height": 600,
       "_image_mode": "diff",
       "_width": 800,
       "layout": "IPY_MODEL_28d4df56ce064e678c2421fc45f7f83d",
       "toolbar": "IPY_MODEL_1c2f6e4df5404de69b79148b2a4a63fe",
       "toolbar_position": "left"
      }
     },
     "237b8de96c8640bbb58246b9bc36785e": {
      "model_module": "@jupyter-widgets/base",
      "model_module_version": "1.2.0",
      "model_name": "LayoutModel",
      "state": {}
     },
     "261814a5841c48028e53e290bfecd1c5": {
      "model_module": "@jupyter-widgets/base",
      "model_module_version": "1.2.0",
      "model_name": "LayoutModel",
      "state": {}
     },
     "2706e3102fbc4e559e79e432c46c0356": {
      "model_module": "@jupyter-widgets/controls",
      "model_module_version": "1.5.0",
      "model_name": "IntSliderModel",
      "state": {
       "description": "N",
       "layout": "IPY_MODEL_b2206b3932bb44f28ee138171cda14e3",
       "max": 2,
       "style": "IPY_MODEL_9b554bdbb128408d94f7acd4e2002b5d"
      }
     },
     "27b7a1573e6c401b9b5a758b16defdb8": {
      "model_module": "@jupyter-widgets/controls",
      "model_module_version": "1.5.0",
      "model_name": "DescriptionStyleModel",
      "state": {
       "description_width": ""
      }
     },
     "28d4df56ce064e678c2421fc45f7f83d": {
      "model_module": "@jupyter-widgets/base",
      "model_module_version": "1.2.0",
      "model_name": "LayoutModel",
      "state": {}
     },
     "2d11f1a1fd554ede8d59a2e1814ca99b": {
      "model_module": "@jupyter-widgets/base",
      "model_module_version": "1.2.0",
      "model_name": "LayoutModel",
      "state": {}
     },
     "2eca6d8946a3496d89f0f7e4dbfd3236": {
      "model_module": "jupyter-matplotlib",
      "model_module_version": "^0.9.0",
      "model_name": "MPLCanvasModel",
      "state": {
       "_cursor": "default",
       "_figure_label": "Figure 1",
       "_height": 568,
       "_image_mode": "diff",
       "_message": "x=48.3 y=0.3920",
       "_width": 809,
       "layout": "IPY_MODEL_5c94d850541d4ebb90a2c61fc2e4f404",
       "toolbar": "IPY_MODEL_449a989ffd8347eba14878228c20f5d9",
       "toolbar_position": "left"
      }
     },
     "3048876f76ba40febf2ca76108bc1059": {
      "model_module": "jupyter-matplotlib",
      "model_module_version": "^0.9.0",
      "model_name": "MPLCanvasModel",
      "state": {
       "_cursor": "default",
       "_figure_label": "Figure 14",
       "_height": 600,
       "_image_mode": "diff",
       "_width": 800,
       "layout": "IPY_MODEL_4264bbc5715d48c989e0380b7ed38678",
       "toolbar": "IPY_MODEL_ada5823898f0459db74f39df4ea98c48",
       "toolbar_position": "left"
      }
     },
     "30b34f9fb28e44c28e3150ab69dbbed0": {
      "model_module": "jupyter-matplotlib",
      "model_module_version": "^0.9.0",
      "model_name": "ToolbarModel",
      "state": {
       "layout": "IPY_MODEL_5b7caaba843c4f7681eb38b816254128",
       "toolitems": [
        [
         "Home",
         "Reset original view",
         "home",
         "home"
        ],
        [
         "Back",
         "Back to previous view",
         "arrow-left",
         "back"
        ],
        [
         "Forward",
         "Forward to next view",
         "arrow-right",
         "forward"
        ],
        [
         "Pan",
         "Left button pans, Right button zooms\nx/y fixes axis, CTRL fixes aspect",
         "arrows",
         "pan"
        ],
        [
         "Zoom",
         "Zoom to rectangle\nx/y fixes axis, CTRL fixes aspect",
         "square-o",
         "zoom"
        ],
        [
         "Download",
         "Download plot",
         "floppy-o",
         "save_figure"
        ]
       ]
      }
     },
     "30b48bf2a8a947b9b1d87d502beae2af": {
      "model_module": "@jupyter-widgets/base",
      "model_module_version": "1.2.0",
      "model_name": "LayoutModel",
      "state": {}
     },
     "3478faddec074a32a1588450bf7b4a50": {
      "model_module": "@jupyter-widgets/controls",
      "model_module_version": "1.5.0",
      "model_name": "SliderStyleModel",
      "state": {
       "description_width": ""
      }
     },
     "399013e01bc047b7a767e79a9285a968": {
      "model_module": "@jupyter-widgets/base",
      "model_module_version": "1.2.0",
      "model_name": "LayoutModel",
      "state": {}
     },
     "39e70f20929c4e3e8aeddfd1fc33a6e0": {
      "model_module": "@jupyter-widgets/base",
      "model_module_version": "1.2.0",
      "model_name": "LayoutModel",
      "state": {}
     },
     "3bfaaeafb0e84ea289d8b40568568ed0": {
      "model_module": "jupyter-matplotlib",
      "model_module_version": "^0.9.0",
      "model_name": "ToolbarModel",
      "state": {
       "layout": "IPY_MODEL_ccb1010f519e4a80a5a485a95aa076d8",
       "toolitems": [
        [
         "Home",
         "Reset original view",
         "home",
         "home"
        ],
        [
         "Back",
         "Back to previous view",
         "arrow-left",
         "back"
        ],
        [
         "Forward",
         "Forward to next view",
         "arrow-right",
         "forward"
        ],
        [
         "Pan",
         "Left button pans, Right button zooms\nx/y fixes axis, CTRL fixes aspect",
         "arrows",
         "pan"
        ],
        [
         "Zoom",
         "Zoom to rectangle\nx/y fixes axis, CTRL fixes aspect",
         "square-o",
         "zoom"
        ],
        [
         "Download",
         "Download plot",
         "floppy-o",
         "save_figure"
        ]
       ]
      }
     },
     "405c3977405746f096f2680b325ae673": {
      "model_module": "@jupyter-widgets/base",
      "model_module_version": "1.2.0",
      "model_name": "LayoutModel",
      "state": {}
     },
     "41d029b0e6a74d0d9fbf2e43a74b9910": {
      "model_module": "jupyter-matplotlib",
      "model_module_version": "^0.9.0",
      "model_name": "ToolbarModel",
      "state": {
       "layout": "IPY_MODEL_612d267f506742c7b63c11dc8b9469da",
       "toolitems": [
        [
         "Home",
         "Reset original view",
         "home",
         "home"
        ],
        [
         "Back",
         "Back to previous view",
         "arrow-left",
         "back"
        ],
        [
         "Forward",
         "Forward to next view",
         "arrow-right",
         "forward"
        ],
        [
         "Pan",
         "Left button pans, Right button zooms\nx/y fixes axis, CTRL fixes aspect",
         "arrows",
         "pan"
        ],
        [
         "Zoom",
         "Zoom to rectangle\nx/y fixes axis, CTRL fixes aspect",
         "square-o",
         "zoom"
        ],
        [
         "Download",
         "Download plot",
         "floppy-o",
         "save_figure"
        ]
       ]
      }
     },
     "41f2a6da65ed485a8ab3d03767adebae": {
      "model_module": "jupyter-matplotlib",
      "model_module_version": "^0.9.0",
      "model_name": "MPLCanvasModel",
      "state": {
       "_cursor": "default",
       "_figure_label": "Figure 6",
       "_height": 600,
       "_image_mode": "diff",
       "_width": 800,
       "layout": "IPY_MODEL_133406911e8a488885c4b4e5852343cd",
       "toolbar": "IPY_MODEL_d2ea8efd4e214edf8b6e9cba1fa35d4b",
       "toolbar_position": "left"
      }
     },
     "4264bbc5715d48c989e0380b7ed38678": {
      "model_module": "@jupyter-widgets/base",
      "model_module_version": "1.2.0",
      "model_name": "LayoutModel",
      "state": {}
     },
     "43acc0dd7717499bb3790cb6dbc72957": {
      "model_module": "@jupyter-widgets/base",
      "model_module_version": "1.2.0",
      "model_name": "LayoutModel",
      "state": {}
     },
     "449a989ffd8347eba14878228c20f5d9": {
      "model_module": "jupyter-matplotlib",
      "model_module_version": "^0.9.0",
      "model_name": "ToolbarModel",
      "state": {
       "layout": "IPY_MODEL_04b4bc05e2024632a4b7e69648dbdc4c",
       "toolitems": [
        [
         "Home",
         "Reset original view",
         "home",
         "home"
        ],
        [
         "Back",
         "Back to previous view",
         "arrow-left",
         "back"
        ],
        [
         "Forward",
         "Forward to next view",
         "arrow-right",
         "forward"
        ],
        [
         "Pan",
         "Left button pans, Right button zooms\nx/y fixes axis, CTRL fixes aspect",
         "arrows",
         "pan"
        ],
        [
         "Zoom",
         "Zoom to rectangle\nx/y fixes axis, CTRL fixes aspect",
         "square-o",
         "zoom"
        ],
        [
         "Download",
         "Download plot",
         "floppy-o",
         "save_figure"
        ]
       ]
      }
     },
     "462db5539f5744aeb359d8e453639f3c": {
      "model_module": "@jupyter-widgets/base",
      "model_module_version": "1.2.0",
      "model_name": "LayoutModel",
      "state": {}
     },
     "46b143e7d1c0479fb6bc0c1ec44d2903": {
      "model_module": "@jupyter-widgets/base",
      "model_module_version": "1.2.0",
      "model_name": "LayoutModel",
      "state": {}
     },
     "47db1b7e67914ad6830c97fef609bcb7": {
      "model_module": "@jupyter-widgets/controls",
      "model_module_version": "1.5.0",
      "model_name": "SliderStyleModel",
      "state": {
       "description_width": ""
      }
     },
     "4b20a7d0968d4c948eb9b92a49e4f9c2": {
      "model_module": "@jupyter-widgets/controls",
      "model_module_version": "1.5.0",
      "model_name": "SliderStyleModel",
      "state": {
       "description_width": ""
      }
     },
     "4b73c20627fb4f2eadbd109b7cbad4ce": {
      "model_module": "@jupyter-widgets/base",
      "model_module_version": "1.2.0",
      "model_name": "LayoutModel",
      "state": {}
     },
     "4c48e073f61247e49d64afa84d60c247": {
      "model_module": "@jupyter-widgets/base",
      "model_module_version": "1.2.0",
      "model_name": "LayoutModel",
      "state": {}
     },
     "506c38e20b704cec88c61dc935a02f0c": {
      "model_module": "@jupyter-widgets/controls",
      "model_module_version": "1.5.0",
      "model_name": "SliderStyleModel",
      "state": {
       "description_width": ""
      }
     },
     "5289d463e22b427a9de0494f7b6a231f": {
      "model_module": "@jupyter-widgets/controls",
      "model_module_version": "1.5.0",
      "model_name": "VBoxModel",
      "state": {
       "_dom_classes": [
        "widget-interact"
       ],
       "layout": "IPY_MODEL_6aba648ec8fb41cead9075106188d06e"
      }
     },
     "540b79bb3041403ba7f7e567e21837ee": {
      "model_module": "@jupyter-widgets/controls",
      "model_module_version": "1.5.0",
      "model_name": "VBoxModel",
      "state": {
       "_dom_classes": [
        "widget-interact"
       ],
       "children": [
        "IPY_MODEL_59393b4203ac4f129c41b8617a2455b7",
        "IPY_MODEL_6b9770ae46ac444d9815f77606ca588a",
        "IPY_MODEL_67772e2f7e9f4d55a692a606f541a678"
       ],
       "layout": "IPY_MODEL_30b48bf2a8a947b9b1d87d502beae2af"
      }
     },
     "574488f7c4d347cf92925c1f6b45cab0": {
      "model_module": "@jupyter-widgets/controls",
      "model_module_version": "1.5.0",
      "model_name": "VBoxModel",
      "state": {
       "_dom_classes": [
        "widget-interact"
       ],
       "children": [
        "IPY_MODEL_6e11c2c7698041409346ac3c4ab105ce",
        "IPY_MODEL_7d28b62ce00548999819d2e2830c9073"
       ],
       "layout": "IPY_MODEL_261814a5841c48028e53e290bfecd1c5"
      }
     },
     "59393b4203ac4f129c41b8617a2455b7": {
      "model_module": "@jupyter-widgets/controls",
      "model_module_version": "1.5.0",
      "model_name": "DropdownModel",
      "state": {
       "description": "DPS",
       "index": null,
       "layout": "IPY_MODEL_03811bd9eee14b5dad872ffbb36601f6",
       "style": "IPY_MODEL_27b7a1573e6c401b9b5a758b16defdb8"
      }
     },
     "5b7caaba843c4f7681eb38b816254128": {
      "model_module": "@jupyter-widgets/base",
      "model_module_version": "1.2.0",
      "model_name": "LayoutModel",
      "state": {}
     },
     "5c94d850541d4ebb90a2c61fc2e4f404": {
      "model_module": "@jupyter-widgets/base",
      "model_module_version": "1.2.0",
      "model_name": "LayoutModel",
      "state": {}
     },
     "5cc2d0a2fe614691b0f076d350713384": {
      "model_module": "jupyter-matplotlib",
      "model_module_version": "^0.9.0",
      "model_name": "MPLCanvasModel",
      "state": {
       "_cursor": "default",
       "_figure_label": "Figure 2",
       "_height": 600,
       "_image_mode": "diff",
       "_width": 800,
       "layout": "IPY_MODEL_928817a602e548018ac0afb58bd21280",
       "toolbar": "IPY_MODEL_71d539ec801241df96635c9cc93de5ff",
       "toolbar_position": "left"
      }
     },
     "5ee88bd601cc4d4ca94525d58fafecdf": {
      "model_module": "@jupyter-widgets/base",
      "model_module_version": "1.2.0",
      "model_name": "LayoutModel",
      "state": {}
     },
     "60cf86d1d4e64d29a46d79924e433fc3": {
      "model_module": "@jupyter-widgets/controls",
      "model_module_version": "1.5.0",
      "model_name": "IntSliderModel",
      "state": {
       "description": "N",
       "layout": "IPY_MODEL_ca61eab0148a46ef9fc2bcebfbfb865f",
       "max": 2,
       "style": "IPY_MODEL_3478faddec074a32a1588450bf7b4a50"
      }
     },
     "612d267f506742c7b63c11dc8b9469da": {
      "model_module": "@jupyter-widgets/base",
      "model_module_version": "1.2.0",
      "model_name": "LayoutModel",
      "state": {}
     },
     "6237e3e81e61430bbac87ede3705e221": {
      "model_module": "@jupyter-widgets/base",
      "model_module_version": "1.2.0",
      "model_name": "LayoutModel",
      "state": {}
     },
     "6514d03c96254a2ab426c70b6e196caf": {
      "model_module": "@jupyter-widgets/base",
      "model_module_version": "1.2.0",
      "model_name": "LayoutModel",
      "state": {}
     },
     "67658e94123b44749e3a6133d2ff371c": {
      "model_module": "jupyter-matplotlib",
      "model_module_version": "^0.9.0",
      "model_name": "MPLCanvasModel",
      "state": {
       "_cursor": "default",
       "_figure_label": "Figure 9",
       "_height": 600,
       "_image_mode": "diff",
       "_width": 800,
       "layout": "IPY_MODEL_b102cff9484e4b0da9ee738e166e0922",
       "toolbar": "IPY_MODEL_a0728f907ff04b9888862d97a0d1f6fb",
       "toolbar_position": "left"
      }
     },
     "676b6198568849a88b0da68c0aa3414d": {
      "model_module": "jupyter-matplotlib",
      "model_module_version": "^0.9.0",
      "model_name": "ToolbarModel",
      "state": {
       "layout": "IPY_MODEL_792598eca2b84b838ca6a773704e5319",
       "toolitems": [
        [
         "Home",
         "Reset original view",
         "home",
         "home"
        ],
        [
         "Back",
         "Back to previous view",
         "arrow-left",
         "back"
        ],
        [
         "Forward",
         "Forward to next view",
         "arrow-right",
         "forward"
        ],
        [
         "Pan",
         "Left button pans, Right button zooms\nx/y fixes axis, CTRL fixes aspect",
         "arrows",
         "pan"
        ],
        [
         "Zoom",
         "Zoom to rectangle\nx/y fixes axis, CTRL fixes aspect",
         "square-o",
         "zoom"
        ],
        [
         "Download",
         "Download plot",
         "floppy-o",
         "save_figure"
        ]
       ]
      }
     },
     "67772e2f7e9f4d55a692a606f541a678": {
      "model_module": "@jupyter-widgets/output",
      "model_module_version": "1.0.0",
      "model_name": "OutputModel",
      "state": {
       "layout": "IPY_MODEL_88679b2ab0be41ac8564299b4f8eefeb",
       "outputs": [
        {
         "ename": "TypeError",
         "evalue": "'NoneType' object is not subscriptable",
         "output_type": "error",
         "traceback": [
          "\u001b[1;31m---------------------------------------------------------------------------\u001b[0m",
          "\u001b[1;31mTypeError\u001b[0m                                 Traceback (most recent call last)",
          "\u001b[1;32mC:\\ProgramData\\Anaconda3\\lib\\site-packages\\ipywidgets\\widgets\\interaction.py\u001b[0m in \u001b[0;36mupdate\u001b[1;34m(self, *args)\u001b[0m\n\u001b[0;32m    254\u001b[0m                     \u001b[0mvalue\u001b[0m \u001b[1;33m=\u001b[0m \u001b[0mwidget\u001b[0m\u001b[1;33m.\u001b[0m\u001b[0mget_interact_value\u001b[0m\u001b[1;33m(\u001b[0m\u001b[1;33m)\u001b[0m\u001b[1;33m\u001b[0m\u001b[1;33m\u001b[0m\u001b[0m\n\u001b[0;32m    255\u001b[0m                     \u001b[0mself\u001b[0m\u001b[1;33m.\u001b[0m\u001b[0mkwargs\u001b[0m\u001b[1;33m[\u001b[0m\u001b[0mwidget\u001b[0m\u001b[1;33m.\u001b[0m\u001b[0m_kwarg\u001b[0m\u001b[1;33m]\u001b[0m \u001b[1;33m=\u001b[0m \u001b[0mvalue\u001b[0m\u001b[1;33m\u001b[0m\u001b[1;33m\u001b[0m\u001b[0m\n\u001b[1;32m--> 256\u001b[1;33m                 \u001b[0mself\u001b[0m\u001b[1;33m.\u001b[0m\u001b[0mresult\u001b[0m \u001b[1;33m=\u001b[0m \u001b[0mself\u001b[0m\u001b[1;33m.\u001b[0m\u001b[0mf\u001b[0m\u001b[1;33m(\u001b[0m\u001b[1;33m**\u001b[0m\u001b[0mself\u001b[0m\u001b[1;33m.\u001b[0m\u001b[0mkwargs\u001b[0m\u001b[1;33m)\u001b[0m\u001b[1;33m\u001b[0m\u001b[1;33m\u001b[0m\u001b[0m\n\u001b[0m\u001b[0;32m    257\u001b[0m                 \u001b[0mshow_inline_matplotlib_plots\u001b[0m\u001b[1;33m(\u001b[0m\u001b[1;33m)\u001b[0m\u001b[1;33m\u001b[0m\u001b[1;33m\u001b[0m\u001b[0m\n\u001b[0;32m    258\u001b[0m                 \u001b[1;32mif\u001b[0m \u001b[0mself\u001b[0m\u001b[1;33m.\u001b[0m\u001b[0mauto_display\u001b[0m \u001b[1;32mand\u001b[0m \u001b[0mself\u001b[0m\u001b[1;33m.\u001b[0m\u001b[0mresult\u001b[0m \u001b[1;32mis\u001b[0m \u001b[1;32mnot\u001b[0m \u001b[1;32mNone\u001b[0m\u001b[1;33m:\u001b[0m\u001b[1;33m\u001b[0m\u001b[1;33m\u001b[0m\u001b[0m\n",
          "\u001b[1;32m<ipython-input-26-cda5222bd584>\u001b[0m in \u001b[0;36mupdate\u001b[1;34m(DPS, N)\u001b[0m\n\u001b[0;32m      6\u001b[0m \u001b[1;32mdef\u001b[0m \u001b[0mupdate\u001b[0m\u001b[1;33m(\u001b[0m\u001b[0mDPS\u001b[0m\u001b[1;33m=\u001b[0m\u001b[0mDPS\u001b[0m\u001b[1;33m,\u001b[0m\u001b[0mN\u001b[0m \u001b[1;33m=\u001b[0m \u001b[1;36m0\u001b[0m\u001b[1;33m)\u001b[0m\u001b[1;33m:\u001b[0m\u001b[1;33m\u001b[0m\u001b[1;33m\u001b[0m\u001b[0m\n\u001b[0;32m      7\u001b[0m     \u001b[0mplt\u001b[0m\u001b[1;33m.\u001b[0m\u001b[0mclf\u001b[0m\u001b[1;33m(\u001b[0m\u001b[1;33m)\u001b[0m\u001b[1;33m\u001b[0m\u001b[1;33m\u001b[0m\u001b[0m\n\u001b[1;32m----> 8\u001b[1;33m     \u001b[0mpb\u001b[0m\u001b[1;33m.\u001b[0m\u001b[0mmyPlot_show\u001b[0m\u001b[1;33m(\u001b[0m\u001b[0mDPS\u001b[0m\u001b[1;33m[\u001b[0m\u001b[0mN\u001b[0m\u001b[1;33m,\u001b[0m\u001b[1;33m:\u001b[0m\u001b[1;33m,\u001b[0m\u001b[1;36m0\u001b[0m\u001b[1;33m,\u001b[0m\u001b[1;36m0\u001b[0m\u001b[1;33m,\u001b[0m\u001b[1;36m0\u001b[0m\u001b[1;33m,\u001b[0m\u001b[1;33m:\u001b[0m\u001b[1;33m,\u001b[0m\u001b[1;33m:\u001b[0m\u001b[1;33m]\u001b[0m\u001b[1;33m,\u001b[0m\u001b[0mllabels\u001b[0m\u001b[1;33m=\u001b[0m\u001b[1;33m(\u001b[0m\u001b[1;36m1\u001b[0m\u001b[1;33m,\u001b[0m\u001b[1;33m[\u001b[0m\u001b[0mMdir\u001b[0m \u001b[1;32mfor\u001b[0m \u001b[0mMdir\u001b[0m \u001b[1;32min\u001b[0m \u001b[0mRing\u001b[0m\u001b[1;33m.\u001b[0m\u001b[0mMdirs\u001b[0m\u001b[1;33m]\u001b[0m\u001b[1;33m)\u001b[0m\u001b[1;33m,\u001b[0m\u001b[0mxlim\u001b[0m\u001b[1;33m=\u001b[0m\u001b[1;33m[\u001b[0m\u001b[1;36m0\u001b[0m\u001b[1;33m,\u001b[0m\u001b[1;36m90\u001b[0m\u001b[1;33m]\u001b[0m\u001b[1;33m,\u001b[0m\u001b[0mxlabel\u001b[0m\u001b[1;33m=\u001b[0m\u001b[1;34m'$z$'\u001b[0m\u001b[1;33m,\u001b[0m \u001b[0mylabel\u001b[0m\u001b[1;33m=\u001b[0m\u001b[1;34mr'$\\phi(z)$'\u001b[0m\u001b[1;33m,\u001b[0m\u001b[0mfname\u001b[0m\u001b[1;33m=\u001b[0m\u001b[1;34m'1A-EquilProfiles'\u001b[0m\u001b[1;33m,\u001b[0m\u001b[0mnames\u001b[0m\u001b[1;33m=\u001b[0m\u001b[1;33m[\u001b[0m\u001b[0mNdir\u001b[0m \u001b[1;32mfor\u001b[0m \u001b[0mNdir\u001b[0m \u001b[1;32min\u001b[0m \u001b[0mRing\u001b[0m\u001b[1;33m.\u001b[0m\u001b[0mNdirs\u001b[0m\u001b[1;33m]\u001b[0m\u001b[1;33m)\u001b[0m\u001b[1;33m\u001b[0m\u001b[1;33m\u001b[0m\u001b[0m\n\u001b[0m\u001b[0;32m      9\u001b[0m \u001b[1;33m\u001b[0m\u001b[0m\n\u001b[0;32m     10\u001b[0m \u001b[0m_\u001b[0m \u001b[1;33m=\u001b[0m  \u001b[0mwidgets\u001b[0m\u001b[1;33m.\u001b[0m\u001b[0minteract\u001b[0m\u001b[1;33m(\u001b[0m\u001b[0mupdate\u001b[0m\u001b[1;33m,\u001b[0m\u001b[0mN\u001b[0m\u001b[1;33m=\u001b[0m\u001b[1;33m(\u001b[0m\u001b[1;36m0\u001b[0m\u001b[1;33m,\u001b[0m\u001b[0mlen\u001b[0m\u001b[1;33m(\u001b[0m\u001b[0mTopologies\u001b[0m\u001b[1;33m[\u001b[0m\u001b[1;36m0\u001b[0m\u001b[1;33m]\u001b[0m\u001b[1;33m.\u001b[0m\u001b[0mNdirs\u001b[0m\u001b[1;33m)\u001b[0m\u001b[1;33m)\u001b[0m\u001b[1;33m)\u001b[0m\u001b[1;33m\u001b[0m\u001b[1;33m\u001b[0m\u001b[0m\n",
          "\u001b[1;31mTypeError\u001b[0m: 'NoneType' object is not subscriptable"
         ]
        }
       ]
      }
     },
     "6aba648ec8fb41cead9075106188d06e": {
      "model_module": "@jupyter-widgets/base",
      "model_module_version": "1.2.0",
      "model_name": "LayoutModel",
      "state": {}
     },
     "6b218e8ffdb54bb3ba875802fb8b283c": {
      "model_module": "@jupyter-widgets/controls",
      "model_module_version": "1.5.0",
      "model_name": "SliderStyleModel",
      "state": {
       "description_width": ""
      }
     },
     "6b9770ae46ac444d9815f77606ca588a": {
      "model_module": "@jupyter-widgets/controls",
      "model_module_version": "1.5.0",
      "model_name": "IntSliderModel",
      "state": {
       "description": "N",
       "layout": "IPY_MODEL_70120743317e4f4eb518cc8e7795ed7b",
       "max": 2,
       "style": "IPY_MODEL_506c38e20b704cec88c61dc935a02f0c"
      }
     },
     "6c8345980fcd46238abc0c81a4782a18": {
      "model_module": "@jupyter-widgets/base",
      "model_module_version": "1.2.0",
      "model_name": "LayoutModel",
      "state": {}
     },
     "6e11c2c7698041409346ac3c4ab105ce": {
      "model_module": "@jupyter-widgets/controls",
      "model_module_version": "1.5.0",
      "model_name": "IntSliderModel",
      "state": {
       "description": "N",
       "layout": "IPY_MODEL_5ee88bd601cc4d4ca94525d58fafecdf",
       "max": 2,
       "style": "IPY_MODEL_6b218e8ffdb54bb3ba875802fb8b283c"
      }
     },
     "6edb0eb277da4a94829c218d659b557c": {
      "model_module": "jupyter-matplotlib",
      "model_module_version": "^0.9.0",
      "model_name": "MPLCanvasModel",
      "state": {
       "_cursor": "default",
       "_figure_label": "Figure 11",
       "_height": 600,
       "_image_mode": "diff",
       "_width": 800,
       "layout": "IPY_MODEL_a0e2173837c341efa2c5f68cbc248b8c",
       "toolbar": "IPY_MODEL_f1fec23a364a4e0db2f62a76b350a342",
       "toolbar_position": "left"
      }
     },
     "70120743317e4f4eb518cc8e7795ed7b": {
      "model_module": "@jupyter-widgets/base",
      "model_module_version": "1.2.0",
      "model_name": "LayoutModel",
      "state": {}
     },
     "71d539ec801241df96635c9cc93de5ff": {
      "model_module": "jupyter-matplotlib",
      "model_module_version": "^0.9.0",
      "model_name": "ToolbarModel",
      "state": {
       "layout": "IPY_MODEL_a68063866f7a452ea7f6072823456263",
       "toolitems": [
        [
         "Home",
         "Reset original view",
         "home",
         "home"
        ],
        [
         "Back",
         "Back to previous view",
         "arrow-left",
         "back"
        ],
        [
         "Forward",
         "Forward to next view",
         "arrow-right",
         "forward"
        ],
        [
         "Pan",
         "Left button pans, Right button zooms\nx/y fixes axis, CTRL fixes aspect",
         "arrows",
         "pan"
        ],
        [
         "Zoom",
         "Zoom to rectangle\nx/y fixes axis, CTRL fixes aspect",
         "square-o",
         "zoom"
        ],
        [
         "Download",
         "Download plot",
         "floppy-o",
         "save_figure"
        ]
       ]
      }
     },
     "7791be366ad04579968da10e0e7f0769": {
      "model_module": "@jupyter-widgets/output",
      "model_module_version": "1.0.0",
      "model_name": "OutputModel",
      "state": {
       "layout": "IPY_MODEL_0bbb3f9ad4e54a308f75b7cee61033a1",
       "outputs": [
        {
         "ename": "IndexError",
         "evalue": "list index out of range",
         "output_type": "error",
         "traceback": [
          "\u001b[1;31m---------------------------------------------------------------------------\u001b[0m",
          "\u001b[1;31mIndexError\u001b[0m                                Traceback (most recent call last)",
          "\u001b[1;32mC:\\ProgramData\\Anaconda3\\lib\\site-packages\\ipywidgets\\widgets\\interaction.py\u001b[0m in \u001b[0;36mupdate\u001b[1;34m(self, *args)\u001b[0m\n\u001b[0;32m    254\u001b[0m                     \u001b[0mvalue\u001b[0m \u001b[1;33m=\u001b[0m \u001b[0mwidget\u001b[0m\u001b[1;33m.\u001b[0m\u001b[0mget_interact_value\u001b[0m\u001b[1;33m(\u001b[0m\u001b[1;33m)\u001b[0m\u001b[1;33m\u001b[0m\u001b[1;33m\u001b[0m\u001b[0m\n\u001b[0;32m    255\u001b[0m                     \u001b[0mself\u001b[0m\u001b[1;33m.\u001b[0m\u001b[0mkwargs\u001b[0m\u001b[1;33m[\u001b[0m\u001b[0mwidget\u001b[0m\u001b[1;33m.\u001b[0m\u001b[0m_kwarg\u001b[0m\u001b[1;33m]\u001b[0m \u001b[1;33m=\u001b[0m \u001b[0mvalue\u001b[0m\u001b[1;33m\u001b[0m\u001b[1;33m\u001b[0m\u001b[0m\n\u001b[1;32m--> 256\u001b[1;33m                 \u001b[0mself\u001b[0m\u001b[1;33m.\u001b[0m\u001b[0mresult\u001b[0m \u001b[1;33m=\u001b[0m \u001b[0mself\u001b[0m\u001b[1;33m.\u001b[0m\u001b[0mf\u001b[0m\u001b[1;33m(\u001b[0m\u001b[1;33m**\u001b[0m\u001b[0mself\u001b[0m\u001b[1;33m.\u001b[0m\u001b[0mkwargs\u001b[0m\u001b[1;33m)\u001b[0m\u001b[1;33m\u001b[0m\u001b[1;33m\u001b[0m\u001b[0m\n\u001b[0m\u001b[0;32m    257\u001b[0m                 \u001b[0mshow_inline_matplotlib_plots\u001b[0m\u001b[1;33m(\u001b[0m\u001b[1;33m)\u001b[0m\u001b[1;33m\u001b[0m\u001b[1;33m\u001b[0m\u001b[0m\n\u001b[0;32m    258\u001b[0m                 \u001b[1;32mif\u001b[0m \u001b[0mself\u001b[0m\u001b[1;33m.\u001b[0m\u001b[0mauto_display\u001b[0m \u001b[1;32mand\u001b[0m \u001b[0mself\u001b[0m\u001b[1;33m.\u001b[0m\u001b[0mresult\u001b[0m \u001b[1;32mis\u001b[0m \u001b[1;32mnot\u001b[0m \u001b[1;32mNone\u001b[0m\u001b[1;33m:\u001b[0m\u001b[1;33m\u001b[0m\u001b[1;33m\u001b[0m\u001b[0m\n",
          "\u001b[1;32m<ipython-input-31-78d481c702ae>\u001b[0m in \u001b[0;36mupdate\u001b[1;34m(N)\u001b[0m\n\u001b[0;32m     10\u001b[0m         \u001b[0mDPSr\u001b[0m \u001b[1;33m=\u001b[0m \u001b[0mTopology\u001b[0m\u001b[1;33m.\u001b[0m\u001b[0mprofiles\u001b[0m\u001b[1;33m(\u001b[0m\u001b[1;33m[\u001b[0m\u001b[1;34m'bbdpe'\u001b[0m\u001b[1;33m]\u001b[0m\u001b[1;33m,\u001b[0m \u001b[0mNis\u001b[0m\u001b[1;33m=\u001b[0m\u001b[1;33m[\u001b[0m\u001b[0mN\u001b[0m\u001b[1;33m]\u001b[0m\u001b[1;33m,\u001b[0m \u001b[0mMis\u001b[0m\u001b[1;33m=\u001b[0m\u001b[1;36m0\u001b[0m\u001b[1;33m,\u001b[0m \u001b[0mXis\u001b[0m\u001b[1;33m=\u001b[0m\u001b[1;33m[\u001b[0m\u001b[1;36m0\u001b[0m\u001b[1;33m]\u001b[0m\u001b[1;33m,\u001b[0m \u001b[0mPDis\u001b[0m\u001b[1;33m=\u001b[0m\u001b[1;33m[\u001b[0m\u001b[1;36m0\u001b[0m\u001b[1;33m]\u001b[0m\u001b[1;33m,\u001b[0m \u001b[0mVis\u001b[0m\u001b[1;33m=\u001b[0m\u001b[1;33m[\u001b[0m\u001b[1;36m0\u001b[0m\u001b[1;33m]\u001b[0m\u001b[1;33m,\u001b[0m \u001b[0mZ2D\u001b[0m\u001b[1;33m=\u001b[0m\u001b[1;32mFalse\u001b[0m\u001b[1;33m)\u001b[0m\u001b[1;33m\u001b[0m\u001b[1;33m\u001b[0m\u001b[0m\n\u001b[0;32m     11\u001b[0m         \u001b[0mDPS0\u001b[0m\u001b[1;33m.\u001b[0m\u001b[0mappend\u001b[0m\u001b[1;33m(\u001b[0m\u001b[0mDPSr\u001b[0m\u001b[1;33m[\u001b[0m\u001b[1;33m:\u001b[0m\u001b[1;33m,\u001b[0m\u001b[1;33m:\u001b[0m\u001b[1;33m,\u001b[0m\u001b[1;36m0\u001b[0m\u001b[1;33m,\u001b[0m\u001b[1;36m0\u001b[0m\u001b[1;33m,\u001b[0m\u001b[1;36m0\u001b[0m\u001b[1;33m,\u001b[0m\u001b[1;33m:\u001b[0m\u001b[1;33m,\u001b[0m\u001b[1;33m:\u001b[0m\u001b[1;33m]\u001b[0m\u001b[1;33m)\u001b[0m\u001b[1;33m\u001b[0m\u001b[1;33m\u001b[0m\u001b[0m\n\u001b[1;32m---> 12\u001b[1;33m     \u001b[0mpb\u001b[0m\u001b[1;33m.\u001b[0m\u001b[0mmyPlot_show\u001b[0m\u001b[1;33m(\u001b[0m\u001b[0mDPS\u001b[0m\u001b[1;33m,\u001b[0m\u001b[0mllabels\u001b[0m\u001b[1;33m=\u001b[0m\u001b[1;33m(\u001b[0m\u001b[1;36m1\u001b[0m\u001b[1;33m,\u001b[0m\u001b[1;33m[\u001b[0m\u001b[0mMdir\u001b[0m \u001b[1;32mfor\u001b[0m \u001b[0mMdir\u001b[0m \u001b[1;32min\u001b[0m \u001b[0mRing\u001b[0m\u001b[1;33m.\u001b[0m\u001b[0mMdirs\u001b[0m\u001b[1;33m]\u001b[0m\u001b[1;33m)\u001b[0m\u001b[1;33m,\u001b[0m\u001b[0mxlim\u001b[0m\u001b[1;33m=\u001b[0m\u001b[1;33m[\u001b[0m\u001b[1;36m0\u001b[0m\u001b[1;33m,\u001b[0m\u001b[1;36m90\u001b[0m\u001b[1;33m]\u001b[0m\u001b[1;33m,\u001b[0m\u001b[0mxlabel\u001b[0m\u001b[1;33m=\u001b[0m\u001b[1;34m'$z$'\u001b[0m\u001b[1;33m,\u001b[0m \u001b[0mylabel\u001b[0m\u001b[1;33m=\u001b[0m\u001b[1;34mr'$\\phi(z)$'\u001b[0m\u001b[1;33m,\u001b[0m\u001b[0mfname\u001b[0m\u001b[1;33m=\u001b[0m\u001b[1;34m'1A-EquilProfiles'\u001b[0m\u001b[1;33m,\u001b[0m\u001b[0mnames\u001b[0m\u001b[1;33m=\u001b[0m\u001b[1;33m[\u001b[0m\u001b[0mNdir\u001b[0m \u001b[1;32mfor\u001b[0m \u001b[0mNdir\u001b[0m \u001b[1;32min\u001b[0m \u001b[0mRing\u001b[0m\u001b[1;33m.\u001b[0m\u001b[0mNdirs\u001b[0m\u001b[1;33m]\u001b[0m\u001b[1;33m)\u001b[0m\u001b[1;33m\u001b[0m\u001b[1;33m\u001b[0m\u001b[0m\n\u001b[0m\u001b[0;32m     13\u001b[0m \u001b[1;33m\u001b[0m\u001b[0m\n\u001b[0;32m     14\u001b[0m \u001b[0m_\u001b[0m \u001b[1;33m=\u001b[0m  \u001b[0mwidgets\u001b[0m\u001b[1;33m.\u001b[0m\u001b[0minteract\u001b[0m\u001b[1;33m(\u001b[0m\u001b[0mupdate\u001b[0m\u001b[1;33m,\u001b[0m\u001b[0mN\u001b[0m\u001b[1;33m=\u001b[0m\u001b[1;33m(\u001b[0m\u001b[1;36m0\u001b[0m\u001b[1;33m,\u001b[0m\u001b[0mlen\u001b[0m\u001b[1;33m(\u001b[0m\u001b[0mTopologies\u001b[0m\u001b[1;33m[\u001b[0m\u001b[1;36m0\u001b[0m\u001b[1;33m]\u001b[0m\u001b[1;33m.\u001b[0m\u001b[0mNdirs\u001b[0m\u001b[1;33m)\u001b[0m\u001b[1;33m)\u001b[0m\u001b[1;33m)\u001b[0m\u001b[1;33m\u001b[0m\u001b[1;33m\u001b[0m\u001b[0m\n",
          "\u001b[1;32mH:\\OneDrive - Imperial College London\\PhD\\PhD-Sims\\Paper21\\Notebook\\pbb_post.py\u001b[0m in \u001b[0;36mmyPlot_show\u001b[1;34m(datas, styles, order, llabels, xlabel, ylabel, title, fname, names, xlim, axis2, y2label, log)\u001b[0m\n\u001b[0;32m    407\u001b[0m             \u001b[0morder\u001b[0m \u001b[1;33m=\u001b[0m \u001b[1;33m[\u001b[0m\u001b[0mi\u001b[0m \u001b[1;32mfor\u001b[0m \u001b[0mi\u001b[0m \u001b[1;32min\u001b[0m \u001b[0mrange\u001b[0m\u001b[1;33m(\u001b[0m\u001b[0mlen\u001b[0m\u001b[1;33m(\u001b[0m\u001b[0mdatas\u001b[0m\u001b[1;33m[\u001b[0m\u001b[0md\u001b[0m\u001b[1;33m]\u001b[0m\u001b[1;33m.\u001b[0m\u001b[0mshape\u001b[0m\u001b[1;33m)\u001b[0m\u001b[1;33m)\u001b[0m\u001b[1;33m]\u001b[0m\u001b[1;33m\u001b[0m\u001b[1;33m\u001b[0m\u001b[0m\n\u001b[0;32m    408\u001b[0m         \u001b[0mdatas\u001b[0m\u001b[1;33m[\u001b[0m\u001b[0md\u001b[0m\u001b[1;33m]\u001b[0m \u001b[1;33m=\u001b[0m \u001b[0mnp\u001b[0m\u001b[1;33m.\u001b[0m\u001b[0mmoveaxis\u001b[0m\u001b[1;33m(\u001b[0m\u001b[0mdatas\u001b[0m\u001b[1;33m[\u001b[0m\u001b[0md\u001b[0m\u001b[1;33m]\u001b[0m\u001b[1;33m,\u001b[0m \u001b[1;33m[\u001b[0m\u001b[0mi\u001b[0m \u001b[1;32mfor\u001b[0m \u001b[0mi\u001b[0m \u001b[1;32min\u001b[0m \u001b[0mrange\u001b[0m\u001b[1;33m(\u001b[0m\u001b[0mlen\u001b[0m\u001b[1;33m(\u001b[0m\u001b[0mdatas\u001b[0m\u001b[1;33m[\u001b[0m\u001b[0md\u001b[0m\u001b[1;33m]\u001b[0m\u001b[1;33m.\u001b[0m\u001b[0mshape\u001b[0m\u001b[1;33m)\u001b[0m\u001b[1;33m)\u001b[0m\u001b[1;33m]\u001b[0m\u001b[1;33m,\u001b[0m \u001b[0morder\u001b[0m\u001b[1;33m)\u001b[0m\u001b[1;33m\u001b[0m\u001b[1;33m\u001b[0m\u001b[0m\n\u001b[1;32m--> 409\u001b[1;33m     \u001b[1;32mfor\u001b[0m \u001b[0mi\u001b[0m \u001b[1;32min\u001b[0m \u001b[0mrange\u001b[0m\u001b[1;33m(\u001b[0m\u001b[0mdatas\u001b[0m\u001b[1;33m[\u001b[0m\u001b[1;36m0\u001b[0m\u001b[1;33m]\u001b[0m\u001b[1;33m.\u001b[0m\u001b[0mshape\u001b[0m\u001b[1;33m[\u001b[0m\u001b[1;36m0\u001b[0m\u001b[1;33m]\u001b[0m\u001b[1;33m)\u001b[0m\u001b[1;33m:\u001b[0m\u001b[1;33m\u001b[0m\u001b[1;33m\u001b[0m\u001b[0m\n\u001b[0m\u001b[0;32m    410\u001b[0m         \u001b[0mfig\u001b[0m\u001b[1;33m,\u001b[0m \u001b[0max\u001b[0m \u001b[1;33m=\u001b[0m \u001b[0mplt\u001b[0m\u001b[1;33m.\u001b[0m\u001b[0msubplots\u001b[0m\u001b[1;33m(\u001b[0m\u001b[1;33m)\u001b[0m\u001b[1;33m\u001b[0m\u001b[1;33m\u001b[0m\u001b[0m\n\u001b[0;32m    411\u001b[0m         \u001b[1;32mif\u001b[0m \u001b[0maxis2\u001b[0m \u001b[1;33m!=\u001b[0m \u001b[1;32mNone\u001b[0m\u001b[1;33m:\u001b[0m\u001b[1;33m\u001b[0m\u001b[1;33m\u001b[0m\u001b[0m\n",
          "\u001b[1;31mIndexError\u001b[0m: list index out of range"
         ]
        }
       ]
      }
     },
     "792598eca2b84b838ca6a773704e5319": {
      "model_module": "@jupyter-widgets/base",
      "model_module_version": "1.2.0",
      "model_name": "LayoutModel",
      "state": {}
     },
     "7cc0783a00664f89993488ac234eefa2": {
      "model_module": "@jupyter-widgets/base",
      "model_module_version": "1.2.0",
      "model_name": "LayoutModel",
      "state": {}
     },
     "7d28b62ce00548999819d2e2830c9073": {
      "model_module": "@jupyter-widgets/output",
      "model_module_version": "1.0.0",
      "model_name": "OutputModel",
      "state": {
       "layout": "IPY_MODEL_399013e01bc047b7a767e79a9285a968",
       "outputs": [
        {
         "data": {
          "application/vnd.jupyter.widget-view+json": {
           "model_id": "3048876f76ba40febf2ca76108bc1059",
           "version_major": 2,
           "version_minor": 0
          },
          "text/plain": "Canvas(toolbar=Toolbar(toolitems=[('Home', 'Reset original view', 'home', 'home'), ('Back', 'Back to previous …"
         },
         "metadata": {},
         "output_type": "display_data"
        }
       ]
      }
     },
     "7e270950096545ff8333cbdf217261a3": {
      "model_module": "jupyter-matplotlib",
      "model_module_version": "^0.9.0",
      "model_name": "ToolbarModel",
      "state": {
       "layout": "IPY_MODEL_c525fa3061af43e58f4f9ff9e3d6ad4f",
       "toolitems": [
        [
         "Home",
         "Reset original view",
         "home",
         "home"
        ],
        [
         "Back",
         "Back to previous view",
         "arrow-left",
         "back"
        ],
        [
         "Forward",
         "Forward to next view",
         "arrow-right",
         "forward"
        ],
        [
         "Pan",
         "Left button pans, Right button zooms\nx/y fixes axis, CTRL fixes aspect",
         "arrows",
         "pan"
        ],
        [
         "Zoom",
         "Zoom to rectangle\nx/y fixes axis, CTRL fixes aspect",
         "square-o",
         "zoom"
        ],
        [
         "Download",
         "Download plot",
         "floppy-o",
         "save_figure"
        ]
       ]
      }
     },
     "7e31057073a743b381d1368bd35f417c": {
      "model_module": "@jupyter-widgets/controls",
      "model_module_version": "1.5.0",
      "model_name": "VBoxModel",
      "state": {
       "_dom_classes": [
        "widget-interact"
       ],
       "children": [
        "IPY_MODEL_9c115a43b6094493b6a7c17fc93e8bd1",
        "IPY_MODEL_bccafe6bad7f4a47ac35d378c4d1535b"
       ],
       "layout": "IPY_MODEL_46b143e7d1c0479fb6bc0c1ec44d2903"
      }
     },
     "7f443d7208844523aa8c5c3f65e16c76": {
      "model_module": "@jupyter-widgets/base",
      "model_module_version": "1.2.0",
      "model_name": "LayoutModel",
      "state": {}
     },
     "86fc887ae3014bf4aa1d2929bb3f2906": {
      "model_module": "@jupyter-widgets/controls",
      "model_module_version": "1.5.0",
      "model_name": "IntSliderModel",
      "state": {
       "description": "N",
       "layout": "IPY_MODEL_462db5539f5744aeb359d8e453639f3c",
       "max": 2,
       "style": "IPY_MODEL_4b20a7d0968d4c948eb9b92a49e4f9c2"
      }
     },
     "88679b2ab0be41ac8564299b4f8eefeb": {
      "model_module": "@jupyter-widgets/base",
      "model_module_version": "1.2.0",
      "model_name": "LayoutModel",
      "state": {}
     },
     "89484089b9134e2198c89f425c1a5f3b": {
      "model_module": "@jupyter-widgets/base",
      "model_module_version": "1.2.0",
      "model_name": "LayoutModel",
      "state": {}
     },
     "8d1322d1f2a34f699a52e634f8d94e31": {
      "model_module": "@jupyter-widgets/base",
      "model_module_version": "1.2.0",
      "model_name": "LayoutModel",
      "state": {}
     },
     "8d339e21bbdb4548a04fdd1c668f6197": {
      "model_module": "jupyter-matplotlib",
      "model_module_version": "^0.9.0",
      "model_name": "MPLCanvasModel",
      "state": {
       "_cursor": "default",
       "_figure_label": "Figure 18",
       "_height": 600,
       "_image_mode": "diff",
       "_width": 800,
       "layout": "IPY_MODEL_b561d259919448369b10bf0b6316c1fc",
       "toolbar": "IPY_MODEL_b40e292d0c2d4bed9ac01331ecf0c95a",
       "toolbar_position": "left"
      }
     },
     "928817a602e548018ac0afb58bd21280": {
      "model_module": "@jupyter-widgets/base",
      "model_module_version": "1.2.0",
      "model_name": "LayoutModel",
      "state": {}
     },
     "9837731164c24459b92372ee86e9f530": {
      "model_module": "jupyter-matplotlib",
      "model_module_version": "^0.9.0",
      "model_name": "MPLCanvasModel",
      "state": {
       "_cursor": "default",
       "_figure_label": "Figure 17",
       "_height": 600,
       "_image_mode": "diff",
       "_width": 800,
       "layout": "IPY_MODEL_ff0c7b215d7f4f46b8fcc87f265802fd",
       "toolbar": "IPY_MODEL_cb7090d7d6b64737a6060e0d792a4abe",
       "toolbar_position": "left"
      }
     },
     "98ef2c3f8d2448c980aa32176ea667b9": {
      "model_module": "@jupyter-widgets/base",
      "model_module_version": "1.2.0",
      "model_name": "LayoutModel",
      "state": {}
     },
     "9b554bdbb128408d94f7acd4e2002b5d": {
      "model_module": "@jupyter-widgets/controls",
      "model_module_version": "1.5.0",
      "model_name": "SliderStyleModel",
      "state": {
       "description_width": ""
      }
     },
     "9c115a43b6094493b6a7c17fc93e8bd1": {
      "model_module": "@jupyter-widgets/controls",
      "model_module_version": "1.5.0",
      "model_name": "IntSliderModel",
      "state": {
       "description": "N",
       "layout": "IPY_MODEL_0677e5a39d1f46bca65cdcbadcceb06a",
       "max": 2,
       "style": "IPY_MODEL_47db1b7e67914ad6830c97fef609bcb7"
      }
     },
     "9f490bead06043afb91e7cd7ad76a75a": {
      "model_module": "@jupyter-widgets/controls",
      "model_module_version": "1.5.0",
      "model_name": "VBoxModel",
      "state": {
       "_dom_classes": [
        "widget-interact"
       ],
       "layout": "IPY_MODEL_a81af764f532443788e22174d250fdf3"
      }
     },
     "a0728f907ff04b9888862d97a0d1f6fb": {
      "model_module": "jupyter-matplotlib",
      "model_module_version": "^0.9.0",
      "model_name": "ToolbarModel",
      "state": {
       "layout": "IPY_MODEL_d7c123366bc34090bcead332cdf9b536",
       "toolitems": [
        [
         "Home",
         "Reset original view",
         "home",
         "home"
        ],
        [
         "Back",
         "Back to previous view",
         "arrow-left",
         "back"
        ],
        [
         "Forward",
         "Forward to next view",
         "arrow-right",
         "forward"
        ],
        [
         "Pan",
         "Left button pans, Right button zooms\nx/y fixes axis, CTRL fixes aspect",
         "arrows",
         "pan"
        ],
        [
         "Zoom",
         "Zoom to rectangle\nx/y fixes axis, CTRL fixes aspect",
         "square-o",
         "zoom"
        ],
        [
         "Download",
         "Download plot",
         "floppy-o",
         "save_figure"
        ]
       ]
      }
     },
     "a0e2173837c341efa2c5f68cbc248b8c": {
      "model_module": "@jupyter-widgets/base",
      "model_module_version": "1.2.0",
      "model_name": "LayoutModel",
      "state": {}
     },
     "a2c2ec10dfdc4e96a438a19d1deebbd7": {
      "model_module": "@jupyter-widgets/base",
      "model_module_version": "1.2.0",
      "model_name": "LayoutModel",
      "state": {}
     },
     "a56b09e43a664a11ab0888f7506cc958": {
      "model_module": "@jupyter-widgets/base",
      "model_module_version": "1.2.0",
      "model_name": "LayoutModel",
      "state": {}
     },
     "a68063866f7a452ea7f6072823456263": {
      "model_module": "@jupyter-widgets/base",
      "model_module_version": "1.2.0",
      "model_name": "LayoutModel",
      "state": {}
     },
     "a81af764f532443788e22174d250fdf3": {
      "model_module": "@jupyter-widgets/base",
      "model_module_version": "1.2.0",
      "model_name": "LayoutModel",
      "state": {}
     },
     "a98c8ceed27143fe8e38ef36df1604f0": {
      "model_module": "jupyter-matplotlib",
      "model_module_version": "^0.9.0",
      "model_name": "MPLCanvasModel",
      "state": {
       "_cursor": "default",
       "_figure_label": "Figure 15",
       "_height": 600,
       "_image_mode": "diff",
       "_width": 800,
       "layout": "IPY_MODEL_e970126a7bbc469887b21381e558033c",
       "toolbar": "IPY_MODEL_afd3da3abf59454eaccd4abe9e256579",
       "toolbar_position": "left"
      }
     },
     "a9bb4dfbf71e413b9811d449fa08ff17": {
      "model_module": "@jupyter-widgets/output",
      "model_module_version": "1.0.0",
      "model_name": "OutputModel",
      "state": {
       "layout": "IPY_MODEL_b574a17af9ed43a0ae6e12eb4d31ab79",
       "outputs": [
        {
         "ename": "NameError",
         "evalue": "name 'ax' is not defined",
         "output_type": "error",
         "traceback": [
          "\u001b[1;31m---------------------------------------------------------------------------\u001b[0m",
          "\u001b[1;31mNameError\u001b[0m                                 Traceback (most recent call last)",
          "\u001b[1;32mC:\\ProgramData\\Anaconda3\\lib\\site-packages\\ipywidgets\\widgets\\interaction.py\u001b[0m in \u001b[0;36mupdate\u001b[1;34m(self, *args)\u001b[0m\n\u001b[0;32m    254\u001b[0m                     \u001b[0mvalue\u001b[0m \u001b[1;33m=\u001b[0m \u001b[0mwidget\u001b[0m\u001b[1;33m.\u001b[0m\u001b[0mget_interact_value\u001b[0m\u001b[1;33m(\u001b[0m\u001b[1;33m)\u001b[0m\u001b[1;33m\u001b[0m\u001b[1;33m\u001b[0m\u001b[0m\n\u001b[0;32m    255\u001b[0m                     \u001b[0mself\u001b[0m\u001b[1;33m.\u001b[0m\u001b[0mkwargs\u001b[0m\u001b[1;33m[\u001b[0m\u001b[0mwidget\u001b[0m\u001b[1;33m.\u001b[0m\u001b[0m_kwarg\u001b[0m\u001b[1;33m]\u001b[0m \u001b[1;33m=\u001b[0m \u001b[0mvalue\u001b[0m\u001b[1;33m\u001b[0m\u001b[1;33m\u001b[0m\u001b[0m\n\u001b[1;32m--> 256\u001b[1;33m                 \u001b[0mself\u001b[0m\u001b[1;33m.\u001b[0m\u001b[0mresult\u001b[0m \u001b[1;33m=\u001b[0m \u001b[0mself\u001b[0m\u001b[1;33m.\u001b[0m\u001b[0mf\u001b[0m\u001b[1;33m(\u001b[0m\u001b[1;33m**\u001b[0m\u001b[0mself\u001b[0m\u001b[1;33m.\u001b[0m\u001b[0mkwargs\u001b[0m\u001b[1;33m)\u001b[0m\u001b[1;33m\u001b[0m\u001b[1;33m\u001b[0m\u001b[0m\n\u001b[0m\u001b[0;32m    257\u001b[0m                 \u001b[0mshow_inline_matplotlib_plots\u001b[0m\u001b[1;33m(\u001b[0m\u001b[1;33m)\u001b[0m\u001b[1;33m\u001b[0m\u001b[1;33m\u001b[0m\u001b[0m\n\u001b[0;32m    258\u001b[0m                 \u001b[1;32mif\u001b[0m \u001b[0mself\u001b[0m\u001b[1;33m.\u001b[0m\u001b[0mauto_display\u001b[0m \u001b[1;32mand\u001b[0m \u001b[0mself\u001b[0m\u001b[1;33m.\u001b[0m\u001b[0mresult\u001b[0m \u001b[1;32mis\u001b[0m \u001b[1;32mnot\u001b[0m \u001b[1;32mNone\u001b[0m\u001b[1;33m:\u001b[0m\u001b[1;33m\u001b[0m\u001b[1;33m\u001b[0m\u001b[0m\n",
          "\u001b[1;32m<ipython-input-19-7765bd36ea7d>\u001b[0m in \u001b[0;36mupdate\u001b[1;34m(N)\u001b[0m\n\u001b[0;32m      3\u001b[0m \u001b[1;32mdef\u001b[0m \u001b[0mupdate\u001b[0m\u001b[1;33m(\u001b[0m\u001b[0mN\u001b[0m \u001b[1;33m=\u001b[0m \u001b[1;36m0\u001b[0m\u001b[1;33m)\u001b[0m\u001b[1;33m:\u001b[0m\u001b[1;33m\u001b[0m\u001b[1;33m\u001b[0m\u001b[0m\n\u001b[0;32m      4\u001b[0m \u001b[1;31m#     plt.clf()\u001b[0m\u001b[1;33m\u001b[0m\u001b[1;33m\u001b[0m\u001b[1;33m\u001b[0m\u001b[0m\n\u001b[1;32m----> 5\u001b[1;33m     \u001b[1;33m[\u001b[0m\u001b[0ml\u001b[0m\u001b[1;33m.\u001b[0m\u001b[0mremove\u001b[0m\u001b[1;33m(\u001b[0m\u001b[1;33m)\u001b[0m \u001b[1;32mfor\u001b[0m \u001b[0ml\u001b[0m \u001b[1;32min\u001b[0m \u001b[0max\u001b[0m\u001b[1;33m.\u001b[0m\u001b[0mlines\u001b[0m\u001b[1;33m]\u001b[0m\u001b[1;33m\u001b[0m\u001b[1;33m\u001b[0m\u001b[0m\n\u001b[0m\u001b[0;32m      6\u001b[0m \u001b[1;33m\u001b[0m\u001b[0m\n\u001b[0;32m      7\u001b[0m     \u001b[0mDPS\u001b[0m \u001b[1;33m=\u001b[0m \u001b[1;33m[\u001b[0m\u001b[1;33m]\u001b[0m\u001b[1;33m\u001b[0m\u001b[1;33m\u001b[0m\u001b[0m\n",
          "\u001b[1;31mNameError\u001b[0m: name 'ax' is not defined"
         ]
        }
       ]
      }
     },
     "ac1e0ef6d6bd48cda86655f6acdbe7bb": {
      "model_module": "@jupyter-widgets/base",
      "model_module_version": "1.2.0",
      "model_name": "LayoutModel",
      "state": {}
     },
     "ada5823898f0459db74f39df4ea98c48": {
      "model_module": "jupyter-matplotlib",
      "model_module_version": "^0.9.0",
      "model_name": "ToolbarModel",
      "state": {
       "layout": "IPY_MODEL_e69a2951cab845438685f5d1ff5631e0",
       "toolitems": [
        [
         "Home",
         "Reset original view",
         "home",
         "home"
        ],
        [
         "Back",
         "Back to previous view",
         "arrow-left",
         "back"
        ],
        [
         "Forward",
         "Forward to next view",
         "arrow-right",
         "forward"
        ],
        [
         "Pan",
         "Left button pans, Right button zooms\nx/y fixes axis, CTRL fixes aspect",
         "arrows",
         "pan"
        ],
        [
         "Zoom",
         "Zoom to rectangle\nx/y fixes axis, CTRL fixes aspect",
         "square-o",
         "zoom"
        ],
        [
         "Download",
         "Download plot",
         "floppy-o",
         "save_figure"
        ]
       ]
      }
     },
     "adbe804a81c24ff8b2ed67afce741e82": {
      "model_module": "@jupyter-widgets/output",
      "model_module_version": "1.0.0",
      "model_name": "OutputModel",
      "state": {
       "layout": "IPY_MODEL_405c3977405746f096f2680b325ae673",
       "outputs": [
        {
         "ename": "AttributeError",
         "evalue": "module 'matplotlib.pyplot' has no attribute 'clear'",
         "output_type": "error",
         "traceback": [
          "\u001b[1;31m---------------------------------------------------------------------------\u001b[0m",
          "\u001b[1;31mAttributeError\u001b[0m                            Traceback (most recent call last)",
          "\u001b[1;32mC:\\ProgramData\\Anaconda3\\lib\\site-packages\\ipywidgets\\widgets\\interaction.py\u001b[0m in \u001b[0;36mupdate\u001b[1;34m(self, *args)\u001b[0m\n\u001b[0;32m    254\u001b[0m                     \u001b[0mvalue\u001b[0m \u001b[1;33m=\u001b[0m \u001b[0mwidget\u001b[0m\u001b[1;33m.\u001b[0m\u001b[0mget_interact_value\u001b[0m\u001b[1;33m(\u001b[0m\u001b[1;33m)\u001b[0m\u001b[1;33m\u001b[0m\u001b[1;33m\u001b[0m\u001b[0m\n\u001b[0;32m    255\u001b[0m                     \u001b[0mself\u001b[0m\u001b[1;33m.\u001b[0m\u001b[0mkwargs\u001b[0m\u001b[1;33m[\u001b[0m\u001b[0mwidget\u001b[0m\u001b[1;33m.\u001b[0m\u001b[0m_kwarg\u001b[0m\u001b[1;33m]\u001b[0m \u001b[1;33m=\u001b[0m \u001b[0mvalue\u001b[0m\u001b[1;33m\u001b[0m\u001b[1;33m\u001b[0m\u001b[0m\n\u001b[1;32m--> 256\u001b[1;33m                 \u001b[0mself\u001b[0m\u001b[1;33m.\u001b[0m\u001b[0mresult\u001b[0m \u001b[1;33m=\u001b[0m \u001b[0mself\u001b[0m\u001b[1;33m.\u001b[0m\u001b[0mf\u001b[0m\u001b[1;33m(\u001b[0m\u001b[1;33m**\u001b[0m\u001b[0mself\u001b[0m\u001b[1;33m.\u001b[0m\u001b[0mkwargs\u001b[0m\u001b[1;33m)\u001b[0m\u001b[1;33m\u001b[0m\u001b[1;33m\u001b[0m\u001b[0m\n\u001b[0m\u001b[0;32m    257\u001b[0m                 \u001b[0mshow_inline_matplotlib_plots\u001b[0m\u001b[1;33m(\u001b[0m\u001b[1;33m)\u001b[0m\u001b[1;33m\u001b[0m\u001b[1;33m\u001b[0m\u001b[0m\n\u001b[0;32m    258\u001b[0m                 \u001b[1;32mif\u001b[0m \u001b[0mself\u001b[0m\u001b[1;33m.\u001b[0m\u001b[0mauto_display\u001b[0m \u001b[1;32mand\u001b[0m \u001b[0mself\u001b[0m\u001b[1;33m.\u001b[0m\u001b[0mresult\u001b[0m \u001b[1;32mis\u001b[0m \u001b[1;32mnot\u001b[0m \u001b[1;32mNone\u001b[0m\u001b[1;33m:\u001b[0m\u001b[1;33m\u001b[0m\u001b[1;33m\u001b[0m\u001b[0m\n",
          "\u001b[1;32m<ipython-input-20-0474f2653dff>\u001b[0m in \u001b[0;36mupdate\u001b[1;34m(N)\u001b[0m\n\u001b[0;32m      2\u001b[0m \u001b[1;33m\u001b[0m\u001b[0m\n\u001b[0;32m      3\u001b[0m \u001b[1;32mdef\u001b[0m \u001b[0mupdate\u001b[0m\u001b[1;33m(\u001b[0m\u001b[0mN\u001b[0m \u001b[1;33m=\u001b[0m \u001b[1;36m0\u001b[0m\u001b[1;33m)\u001b[0m\u001b[1;33m:\u001b[0m\u001b[1;33m\u001b[0m\u001b[1;33m\u001b[0m\u001b[0m\n\u001b[1;32m----> 4\u001b[1;33m     \u001b[0mplt\u001b[0m\u001b[1;33m.\u001b[0m\u001b[0mclear\u001b[0m\u001b[1;33m(\u001b[0m\u001b[1;33m)\u001b[0m\u001b[1;33m\u001b[0m\u001b[1;33m\u001b[0m\u001b[0m\n\u001b[0m\u001b[0;32m      5\u001b[0m     \u001b[0mDPS\u001b[0m \u001b[1;33m=\u001b[0m \u001b[1;33m[\u001b[0m\u001b[1;33m]\u001b[0m\u001b[1;33m\u001b[0m\u001b[1;33m\u001b[0m\u001b[0m\n\u001b[0;32m      6\u001b[0m     \u001b[1;32mfor\u001b[0m \u001b[0mTopology\u001b[0m \u001b[1;32min\u001b[0m \u001b[0mTopologies\u001b[0m\u001b[1;33m:\u001b[0m\u001b[1;33m\u001b[0m\u001b[1;33m\u001b[0m\u001b[0m\n",
          "\u001b[1;31mAttributeError\u001b[0m: module 'matplotlib.pyplot' has no attribute 'clear'"
         ]
        }
       ]
      }
     },
     "af0c21e27f5f4ca6b292ac8547c68d49": {
      "model_module": "jupyter-matplotlib",
      "model_module_version": "^0.9.0",
      "model_name": "MPLCanvasModel",
      "state": {
       "_cursor": "default",
       "_figure_label": "Figure 20",
       "_height": 600,
       "_width": 800,
       "layout": "IPY_MODEL_084b744d9cfb4173b8c7ab43b6471da2",
       "toolbar": "IPY_MODEL_d727f9938c9a4481bf52809eefac5237",
       "toolbar_position": "left"
      }
     },
     "afd3da3abf59454eaccd4abe9e256579": {
      "model_module": "jupyter-matplotlib",
      "model_module_version": "^0.9.0",
      "model_name": "ToolbarModel",
      "state": {
       "layout": "IPY_MODEL_feb1aa26fef441ce8cfee3f7e39e14e0",
       "toolitems": [
        [
         "Home",
         "Reset original view",
         "home",
         "home"
        ],
        [
         "Back",
         "Back to previous view",
         "arrow-left",
         "back"
        ],
        [
         "Forward",
         "Forward to next view",
         "arrow-right",
         "forward"
        ],
        [
         "Pan",
         "Left button pans, Right button zooms\nx/y fixes axis, CTRL fixes aspect",
         "arrows",
         "pan"
        ],
        [
         "Zoom",
         "Zoom to rectangle\nx/y fixes axis, CTRL fixes aspect",
         "square-o",
         "zoom"
        ],
        [
         "Download",
         "Download plot",
         "floppy-o",
         "save_figure"
        ]
       ]
      }
     },
     "b102cff9484e4b0da9ee738e166e0922": {
      "model_module": "@jupyter-widgets/base",
      "model_module_version": "1.2.0",
      "model_name": "LayoutModel",
      "state": {}
     },
     "b2206b3932bb44f28ee138171cda14e3": {
      "model_module": "@jupyter-widgets/base",
      "model_module_version": "1.2.0",
      "model_name": "LayoutModel",
      "state": {}
     },
     "b40e292d0c2d4bed9ac01331ecf0c95a": {
      "model_module": "jupyter-matplotlib",
      "model_module_version": "^0.9.0",
      "model_name": "ToolbarModel",
      "state": {
       "layout": "IPY_MODEL_d0f8b31d3b2d48c982eea4f53d755e30",
       "toolitems": [
        [
         "Home",
         "Reset original view",
         "home",
         "home"
        ],
        [
         "Back",
         "Back to previous view",
         "arrow-left",
         "back"
        ],
        [
         "Forward",
         "Forward to next view",
         "arrow-right",
         "forward"
        ],
        [
         "Pan",
         "Left button pans, Right button zooms\nx/y fixes axis, CTRL fixes aspect",
         "arrows",
         "pan"
        ],
        [
         "Zoom",
         "Zoom to rectangle\nx/y fixes axis, CTRL fixes aspect",
         "square-o",
         "zoom"
        ],
        [
         "Download",
         "Download plot",
         "floppy-o",
         "save_figure"
        ]
       ]
      }
     },
     "b491712c792847ab959d0844f82811d3": {
      "model_module": "jupyter-matplotlib",
      "model_module_version": "^0.9.0",
      "model_name": "MPLCanvasModel",
      "state": {
       "_cursor": "default",
       "_figure_label": "Figure 13",
       "_height": 600,
       "_image_mode": "diff",
       "_width": 800,
       "layout": "IPY_MODEL_a56b09e43a664a11ab0888f7506cc958",
       "toolbar": "IPY_MODEL_1810cb99fe6b4feca3b709bc57e82a5f",
       "toolbar_position": "left"
      }
     },
     "b4e4630dedb1414dbb74be581462bdcc": {
      "model_module": "@jupyter-widgets/base",
      "model_module_version": "1.2.0",
      "model_name": "LayoutModel",
      "state": {}
     },
     "b561d259919448369b10bf0b6316c1fc": {
      "model_module": "@jupyter-widgets/base",
      "model_module_version": "1.2.0",
      "model_name": "LayoutModel",
      "state": {}
     },
     "b574a17af9ed43a0ae6e12eb4d31ab79": {
      "model_module": "@jupyter-widgets/base",
      "model_module_version": "1.2.0",
      "model_name": "LayoutModel",
      "state": {}
     },
     "b5fc1c05b7ef4bfa89d9fd93e248f6eb": {
      "model_module": "@jupyter-widgets/output",
      "model_module_version": "1.0.0",
      "model_name": "OutputModel",
      "state": {
       "layout": "IPY_MODEL_2d11f1a1fd554ede8d59a2e1814ca99b",
       "outputs": [
        {
         "data": {
          "application/vnd.jupyter.widget-view+json": {
           "model_id": "eef38caabc7b4e0b89631dd16cd2610b",
           "version_major": 2,
           "version_minor": 0
          },
          "text/plain": "Canvas(toolbar=Toolbar(toolitems=[('Home', 'Reset original view', 'home', 'home'), ('Back', 'Back to previous …"
         },
         "metadata": {},
         "output_type": "display_data"
        }
       ]
      }
     },
     "b6f82f0c103f465e8aaf3a65c3294abb": {
      "model_module": "jupyter-matplotlib",
      "model_module_version": "^0.9.0",
      "model_name": "ToolbarModel",
      "state": {
       "layout": "IPY_MODEL_cb281e7da8e14d49a2d2d7ebec88d746",
       "toolitems": [
        [
         "Home",
         "Reset original view",
         "home",
         "home"
        ],
        [
         "Back",
         "Back to previous view",
         "arrow-left",
         "back"
        ],
        [
         "Forward",
         "Forward to next view",
         "arrow-right",
         "forward"
        ],
        [
         "Pan",
         "Left button pans, Right button zooms\nx/y fixes axis, CTRL fixes aspect",
         "arrows",
         "pan"
        ],
        [
         "Zoom",
         "Zoom to rectangle\nx/y fixes axis, CTRL fixes aspect",
         "square-o",
         "zoom"
        ],
        [
         "Download",
         "Download plot",
         "floppy-o",
         "save_figure"
        ]
       ]
      }
     },
     "bccafe6bad7f4a47ac35d378c4d1535b": {
      "model_module": "@jupyter-widgets/output",
      "model_module_version": "1.0.0",
      "model_name": "OutputModel",
      "state": {
       "layout": "IPY_MODEL_6514d03c96254a2ab426c70b6e196caf",
       "outputs": [
        {
         "data": {
          "application/vnd.jupyter.widget-view+json": {
           "model_id": "af0c21e27f5f4ca6b292ac8547c68d49",
           "version_major": 2,
           "version_minor": 0
          },
          "text/plain": "Canvas(toolbar=Toolbar(toolitems=[('Home', 'Reset original view', 'home', 'home'), ('Back', 'Back to previous …"
         },
         "metadata": {},
         "output_type": "display_data"
        }
       ]
      }
     },
     "be22deb10d7c4bb09220f473226c1733": {
      "model_module": "jupyter-matplotlib",
      "model_module_version": "^0.9.0",
      "model_name": "MPLCanvasModel",
      "state": {
       "_cursor": "default",
       "_figure_label": "Figure 19",
       "_height": 600,
       "_width": 800,
       "layout": "IPY_MODEL_39e70f20929c4e3e8aeddfd1fc33a6e0",
       "toolbar": "IPY_MODEL_c7a61f1e005848d1a2f61036e81ace85",
       "toolbar_position": "left"
      }
     },
     "c0a2ccad108f47b3991ca75b5267423e": {
      "model_module": "jupyter-matplotlib",
      "model_module_version": "^0.9.0",
      "model_name": "MPLCanvasModel",
      "state": {
       "_cursor": "default",
       "_figure_label": "Figure 3",
       "_height": 600,
       "_image_mode": "diff",
       "_width": 800,
       "layout": "IPY_MODEL_7f443d7208844523aa8c5c3f65e16c76",
       "toolbar": "IPY_MODEL_676b6198568849a88b0da68c0aa3414d",
       "toolbar_position": "left"
      }
     },
     "c525fa3061af43e58f4f9ff9e3d6ad4f": {
      "model_module": "@jupyter-widgets/base",
      "model_module_version": "1.2.0",
      "model_name": "LayoutModel",
      "state": {}
     },
     "c7a61f1e005848d1a2f61036e81ace85": {
      "model_module": "jupyter-matplotlib",
      "model_module_version": "^0.9.0",
      "model_name": "ToolbarModel",
      "state": {
       "layout": "IPY_MODEL_43acc0dd7717499bb3790cb6dbc72957",
       "toolitems": [
        [
         "Home",
         "Reset original view",
         "home",
         "home"
        ],
        [
         "Back",
         "Back to previous view",
         "arrow-left",
         "back"
        ],
        [
         "Forward",
         "Forward to next view",
         "arrow-right",
         "forward"
        ],
        [
         "Pan",
         "Left button pans, Right button zooms\nx/y fixes axis, CTRL fixes aspect",
         "arrows",
         "pan"
        ],
        [
         "Zoom",
         "Zoom to rectangle\nx/y fixes axis, CTRL fixes aspect",
         "square-o",
         "zoom"
        ],
        [
         "Download",
         "Download plot",
         "floppy-o",
         "save_figure"
        ]
       ]
      }
     },
     "c7be06107851454fa6d57e515440f3f6": {
      "model_module": "@jupyter-widgets/controls",
      "model_module_version": "1.5.0",
      "model_name": "VBoxModel",
      "state": {
       "_dom_classes": [
        "widget-interact"
       ],
       "children": [
        "IPY_MODEL_60cf86d1d4e64d29a46d79924e433fc3",
        "IPY_MODEL_a9bb4dfbf71e413b9811d449fa08ff17"
       ],
       "layout": "IPY_MODEL_4b73c20627fb4f2eadbd109b7cbad4ce"
      }
     },
     "ca4cffd8cad74e528a0c5940b3aac33d": {
      "model_module": "jupyter-matplotlib",
      "model_module_version": "^0.9.0",
      "model_name": "MPLCanvasModel",
      "state": {
       "_cursor": "default",
       "_figure_label": "Figure 4",
       "_height": 600,
       "_image_mode": "diff",
       "_width": 800,
       "layout": "IPY_MODEL_189fd793d8b64f8e9bd0d81f84b8974e",
       "toolbar": "IPY_MODEL_41d029b0e6a74d0d9fbf2e43a74b9910",
       "toolbar_position": "left"
      }
     },
     "ca61eab0148a46ef9fc2bcebfbfb865f": {
      "model_module": "@jupyter-widgets/base",
      "model_module_version": "1.2.0",
      "model_name": "LayoutModel",
      "state": {}
     },
     "cad3a0f8d30d4aed8e4bd3125ac6c16e": {
      "model_module": "@jupyter-widgets/base",
      "model_module_version": "1.2.0",
      "model_name": "LayoutModel",
      "state": {}
     },
     "cb281e7da8e14d49a2d2d7ebec88d746": {
      "model_module": "@jupyter-widgets/base",
      "model_module_version": "1.2.0",
      "model_name": "LayoutModel",
      "state": {}
     },
     "cb7090d7d6b64737a6060e0d792a4abe": {
      "model_module": "jupyter-matplotlib",
      "model_module_version": "^0.9.0",
      "model_name": "ToolbarModel",
      "state": {
       "layout": "IPY_MODEL_b4e4630dedb1414dbb74be581462bdcc",
       "toolitems": [
        [
         "Home",
         "Reset original view",
         "home",
         "home"
        ],
        [
         "Back",
         "Back to previous view",
         "arrow-left",
         "back"
        ],
        [
         "Forward",
         "Forward to next view",
         "arrow-right",
         "forward"
        ],
        [
         "Pan",
         "Left button pans, Right button zooms\nx/y fixes axis, CTRL fixes aspect",
         "arrows",
         "pan"
        ],
        [
         "Zoom",
         "Zoom to rectangle\nx/y fixes axis, CTRL fixes aspect",
         "square-o",
         "zoom"
        ],
        [
         "Download",
         "Download plot",
         "floppy-o",
         "save_figure"
        ]
       ]
      }
     },
     "ccb1010f519e4a80a5a485a95aa076d8": {
      "model_module": "@jupyter-widgets/base",
      "model_module_version": "1.2.0",
      "model_name": "LayoutModel",
      "state": {}
     },
     "d0f8b31d3b2d48c982eea4f53d755e30": {
      "model_module": "@jupyter-widgets/base",
      "model_module_version": "1.2.0",
      "model_name": "LayoutModel",
      "state": {}
     },
     "d2ea8efd4e214edf8b6e9cba1fa35d4b": {
      "model_module": "jupyter-matplotlib",
      "model_module_version": "^0.9.0",
      "model_name": "ToolbarModel",
      "state": {
       "layout": "IPY_MODEL_6c8345980fcd46238abc0c81a4782a18",
       "toolitems": [
        [
         "Home",
         "Reset original view",
         "home",
         "home"
        ],
        [
         "Back",
         "Back to previous view",
         "arrow-left",
         "back"
        ],
        [
         "Forward",
         "Forward to next view",
         "arrow-right",
         "forward"
        ],
        [
         "Pan",
         "Left button pans, Right button zooms\nx/y fixes axis, CTRL fixes aspect",
         "arrows",
         "pan"
        ],
        [
         "Zoom",
         "Zoom to rectangle\nx/y fixes axis, CTRL fixes aspect",
         "square-o",
         "zoom"
        ],
        [
         "Download",
         "Download plot",
         "floppy-o",
         "save_figure"
        ]
       ]
      }
     },
     "d727f9938c9a4481bf52809eefac5237": {
      "model_module": "jupyter-matplotlib",
      "model_module_version": "^0.9.0",
      "model_name": "ToolbarModel",
      "state": {
       "layout": "IPY_MODEL_89484089b9134e2198c89f425c1a5f3b",
       "toolitems": [
        [
         "Home",
         "Reset original view",
         "home",
         "home"
        ],
        [
         "Back",
         "Back to previous view",
         "arrow-left",
         "back"
        ],
        [
         "Forward",
         "Forward to next view",
         "arrow-right",
         "forward"
        ],
        [
         "Pan",
         "Left button pans, Right button zooms\nx/y fixes axis, CTRL fixes aspect",
         "arrows",
         "pan"
        ],
        [
         "Zoom",
         "Zoom to rectangle\nx/y fixes axis, CTRL fixes aspect",
         "square-o",
         "zoom"
        ],
        [
         "Download",
         "Download plot",
         "floppy-o",
         "save_figure"
        ]
       ]
      }
     },
     "d7c123366bc34090bcead332cdf9b536": {
      "model_module": "@jupyter-widgets/base",
      "model_module_version": "1.2.0",
      "model_name": "LayoutModel",
      "state": {}
     },
     "d9235eaf591149d8863086ff059f2cef": {
      "model_module": "jupyter-matplotlib",
      "model_module_version": "^0.9.0",
      "model_name": "MPLCanvasModel",
      "state": {
       "_cursor": "default",
       "_figure_label": "Figure 12",
       "_height": 600,
       "_image_mode": "diff",
       "_width": 800,
       "layout": "IPY_MODEL_4c48e073f61247e49d64afa84d60c247",
       "toolbar": "IPY_MODEL_b6f82f0c103f465e8aaf3a65c3294abb",
       "toolbar_position": "left"
      }
     },
     "dbfc9146c5f24c519e15784af2a83680": {
      "model_module": "@jupyter-widgets/controls",
      "model_module_version": "1.5.0",
      "model_name": "SliderStyleModel",
      "state": {
       "description_width": ""
      }
     },
     "dd689e7fd1734969847dc3557de3889f": {
      "model_module": "@jupyter-widgets/base",
      "model_module_version": "1.2.0",
      "model_name": "LayoutModel",
      "state": {}
     },
     "ddd9aaedc176461f8b126e35b23ff1cd": {
      "model_module": "@jupyter-widgets/controls",
      "model_module_version": "1.5.0",
      "model_name": "VBoxModel",
      "state": {
       "_dom_classes": [
        "widget-interact"
       ],
       "children": [
        "IPY_MODEL_86fc887ae3014bf4aa1d2929bb3f2906",
        "IPY_MODEL_b5fc1c05b7ef4bfa89d9fd93e248f6eb"
       ],
       "layout": "IPY_MODEL_dd689e7fd1734969847dc3557de3889f"
      }
     },
     "ddd9e15315b74a43ae7ac2079f0001d4": {
      "model_module": "@jupyter-widgets/controls",
      "model_module_version": "1.5.0",
      "model_name": "VBoxModel",
      "state": {
       "_dom_classes": [
        "widget-interact"
       ],
       "children": [
        "IPY_MODEL_2706e3102fbc4e559e79e432c46c0356",
        "IPY_MODEL_7791be366ad04579968da10e0e7f0769"
       ],
       "layout": "IPY_MODEL_01f43db869ca4d61a87f4c035f286209"
      }
     },
     "e378f12d0d0f46adbdf8f27d0d7b7598": {
      "model_module": "@jupyter-widgets/base",
      "model_module_version": "1.2.0",
      "model_name": "LayoutModel",
      "state": {}
     },
     "e69a2951cab845438685f5d1ff5631e0": {
      "model_module": "@jupyter-widgets/base",
      "model_module_version": "1.2.0",
      "model_name": "LayoutModel",
      "state": {}
     },
     "e74a7cbb3ca94dff8a4da0b9e800b910": {
      "model_module": "@jupyter-widgets/controls",
      "model_module_version": "1.5.0",
      "model_name": "VBoxModel",
      "state": {
       "_dom_classes": [
        "widget-interact"
       ],
       "layout": "IPY_MODEL_98ef2c3f8d2448c980aa32176ea667b9"
      }
     },
     "e970126a7bbc469887b21381e558033c": {
      "model_module": "@jupyter-widgets/base",
      "model_module_version": "1.2.0",
      "model_name": "LayoutModel",
      "state": {}
     },
     "eef38caabc7b4e0b89631dd16cd2610b": {
      "model_module": "jupyter-matplotlib",
      "model_module_version": "^0.9.0",
      "model_name": "MPLCanvasModel",
      "state": {
       "_cursor": "default",
       "_figure_label": "Figure 10",
       "_height": 600,
       "_image_mode": "diff",
       "_width": 800,
       "layout": "IPY_MODEL_a2c2ec10dfdc4e96a438a19d1deebbd7",
       "toolbar": "IPY_MODEL_3bfaaeafb0e84ea289d8b40568568ed0",
       "toolbar_position": "left"
      }
     },
     "f1fec23a364a4e0db2f62a76b350a342": {
      "model_module": "jupyter-matplotlib",
      "model_module_version": "^0.9.0",
      "model_name": "ToolbarModel",
      "state": {
       "layout": "IPY_MODEL_7cc0783a00664f89993488ac234eefa2",
       "toolitems": [
        [
         "Home",
         "Reset original view",
         "home",
         "home"
        ],
        [
         "Back",
         "Back to previous view",
         "arrow-left",
         "back"
        ],
        [
         "Forward",
         "Forward to next view",
         "arrow-right",
         "forward"
        ],
        [
         "Pan",
         "Left button pans, Right button zooms\nx/y fixes axis, CTRL fixes aspect",
         "arrows",
         "pan"
        ],
        [
         "Zoom",
         "Zoom to rectangle\nx/y fixes axis, CTRL fixes aspect",
         "square-o",
         "zoom"
        ],
        [
         "Download",
         "Download plot",
         "floppy-o",
         "save_figure"
        ]
       ]
      }
     },
     "f61403c895ac4b95a60d56e3e5c01ed0": {
      "model_module": "@jupyter-widgets/base",
      "model_module_version": "1.2.0",
      "model_name": "LayoutModel",
      "state": {}
     },
     "f7f4273b518145c9a67f32fe79c8b1c9": {
      "model_module": "jupyter-matplotlib",
      "model_module_version": "^0.9.0",
      "model_name": "MPLCanvasModel",
      "state": {
       "_cursor": "default",
       "_figure_label": "Figure 5",
       "_height": 600,
       "_image_mode": "diff",
       "_width": 800,
       "layout": "IPY_MODEL_6237e3e81e61430bbac87ede3705e221",
       "toolbar": "IPY_MODEL_1a1e954f50d64429b91b47c24a2f6030",
       "toolbar_position": "left"
      }
     },
     "feb1aa26fef441ce8cfee3f7e39e14e0": {
      "model_module": "@jupyter-widgets/base",
      "model_module_version": "1.2.0",
      "model_name": "LayoutModel",
      "state": {}
     },
     "ff0c7b215d7f4f46b8fcc87f265802fd": {
      "model_module": "@jupyter-widgets/base",
      "model_module_version": "1.2.0",
      "model_name": "LayoutModel",
      "state": {}
     }
    },
    "version_major": 2,
    "version_minor": 0
   }
  }
 },
 "nbformat": 4,
 "nbformat_minor": 4
}
